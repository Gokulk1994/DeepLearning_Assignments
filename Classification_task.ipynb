{
  "nbformat": 4,
  "nbformat_minor": 0,
  "metadata": {
    "colab": {
      "name": "Classification_task.ipynb",
      "version": "0.3.2",
      "provenance": [],
      "collapsed_sections": []
    },
    "kernelspec": {
      "name": "python3",
      "display_name": "Python 3"
    },
    "accelerator": "GPU"
  },
  "cells": [
    {
      "cell_type": "markdown",
      "metadata": {
        "id": "Zafx6Y6AflAu",
        "colab_type": "text"
      },
      "source": [
        "# Deep learning programming II: Classification\n",
        "Felix Wiewel, Institute of Signal Processing and System Theory, University of Stuttgart, 11.06.2019\n",
        "\n",
        "## Introduction\n",
        "A common problem that arises in machine learning is the classifiaction of images. The goal of this exercise is to introduce you to the practical implementation of a complete pipeline for solving a classification task with neural networks in tensorflow. For this we will make extended use of Keras, a specification of a high-level API for implementing powerful classes and functions to create and train neural networks. Tensorflow already comes with an implementation of the Keras specification so there is no need to install Keras if you have already installed Tensorflow. Usign Keras instead of low level tensorflow code to implement your neural networks and their training algorithms comes with some advantages but also some disadvantages. Since Keras makes it very easy to build and train neural networks, even people without strong programming skills can quickly develop solutions for given problems using neural networks. Keras essantially provides an abstract interface to the user and takes care of the low-level implementation details. This, however, comes with a cost. Since many technical details are hidden from the user, it is sometimes quite difficult to modify and change certain parts of your model/training algorithm. To a certain extend Keras provides you with ways to implement custom network architectures, custom layers and custom training algorithms but sometimes having to write code that is compliant with the Keras specification is more difficult than implementing it in low-level Tensorflow code. But for most standard applications, e.g. simple image classification like in this exercise, Keras is flexible enough and can save you a lot of time and frustation.\n",
        "\n",
        "## GPU support\n",
        "In order to speed up calculations with tensorflow, we need to change the runtime type of this notebook to GPU. For this click on \"Runtime\" in the top left menu and select \"Change runtime type\". Then choose \"GPU\" in the drop down list under \"Hardware accelerator\". This will enable tensorflow to execute calculations on a GPU provided by Google Colab.\n",
        "\n",
        "## Mathematical Background\n",
        "In classification we are interested in learning a function that maps an input $\\mathbf{x}\\in\\mathbb{R}^{M}$ to one out of possibly many classes. In order to characterize such a mapping, we need a mathematical expression to uniquely identify different classes. This is typically done by assigning each class an integer value. So in the case of classifying images in the three classes Dog, Cat, Bird one could assign these classes with the one-hot vectors $\\left[1,0,0\\right]^{T},\\left[0,1,0\\right]^{T},\\left[0,0,1\\right]^{T}$. In classification using neural networks we are then interested in learning the function\n",
        "\n",
        "$\\mathbf{y}=f_{\\boldsymbol{\\theta}}(\\mathbf{x})$,\n",
        "\n",
        "where $f$ is a neural network with parameters $\\boldsymbol{\\theta}$ that maps our possibly high-dimensional input $\\mathbf{x}\\in\\mathbb{R}^{M}$ to an output $\\mathbf{y}\\in\\lbrace0,1\\rbrace^{k}$ that represents one out of $k$ possible classes. Similar to the regression exercise, we will use a probabilistic view on this problem in order to derive a suitable cost function we can use to train our model. This time however we will not introduce uncertainty through assuming some sort of noise acting on the prediction of the model as we did in the previous exercise. Instead we will treat both $\\mathbf{x}$ and $\\mathbf{y}$ as random variables with probability distribution functions (pdfs) $p(\\mathbf{x})$ and $p(\\mathbf{y})$. We already know that $\\mathbf{y}$ can be one  out of $k$ classes, i.e. $p(\\mathbf{y})$ is a cateorical distribution. Instead of trying to learn a deterministic function that maps an input $\\mathbf{x}$ to an output $\\mathbf{y}$ we can instead learn a function that takes $\\mathbf{x}$ as an input and outputs a pdf over our $k$ different classes, i.e. $p(\\mathbf{y}\\vert\\mathbf{x})$. In order to then classify an input we typically assign it with the class label that is most likely. In this way we can easily interprete the output of the model and also incorporate prior information into our decision. Using this probabilistic perspective on the classification problem we are interested in learning the conditional distribution\n",
        "\n",
        "$p(\\mathbf{y}\\vert\\mathbf{x})=\\prod_{n=1}^{k}\\mu_{n}(\\mathbf{x})^{y_{n}}$,\n",
        "\n",
        "where $y_{n}\\in\\lbrace0,1\\rbrace$,  $\\sum_{n=1}^{k}y_{n}=1$, $0\\leq\\mu_{n}(\\mathbf{x})\\leq1$ and $\\sum_{n=1}^{k}\\mu_{n}(\\mathbf{x})=1$. In other words, we want to learn the parameters of a neural network $\\boldsymbol{\\theta}$ that, given an input $\\mathbf{x}$, outputs $\\mu_{n}(\\mathbf{x})$ for $1\\leq n\\leq k$ satisfying the constraints $0\\leq\\mu_{n}(\\mathbf{x})\\leq1$ and $\\sum_{n=1}^{k}\\mu_{n}(\\mathbf{x})=1$. Practically, we can realize this by designing a neural network that accepts $\\mathbf{x}$ as an input and has an output layer with $k$ neurons and a softmax activation function. In order to derive a cost function for learning the parameters $\\boldsymbol{\\theta}$ of the neural network, we will again use the log likelihood\n",
        "\n",
        "$\\mathcal{L}(\\mathbf{x},\\mathbf{y},\\boldsymbol{\\theta})=\\ln{p(\\mathbf{y}\\vert\\mathbf{x},\\boldsymbol{\\theta})}=\\ln{\\prod_{n=1}^{k}\\mu_{n}(\\mathbf{x})^{y_{n}}}=\\sum_{n=1}^{k}y_{n}\\ln{\\mu_{n}(\\mathbf{x})}$,\n",
        "\n",
        "where $\\mu_{n}(\\mathbf{x})$ depends on the parameters $\\boldsymbol{\\theta}$ of the neural network. The log likelihood measures how likely $\\mathbf{y}$ is given $\\mathbf{x}$ and the parameters $\\boldsymbol{\\theta}$. Maximizing the expected log likelihood over the complete data set yields the optimal parameters\n",
        "\n",
        "$\\boldsymbol{\\theta}^{\\star}=\\arg\\max_{\\boldsymbol{\\theta}}\\mathbb{E}\\left[\\mathcal{L}(\\mathbf{x},\\mathbf{y},\\boldsymbol{\\theta})\\right]=\\arg\\min_{\\boldsymbol{\\theta}}-\\mathbb{E}\\left[\\sum_{n=1}^{k}y_{n}\\ln{\\mu_{n}(\\mathbf{x})}\\right]\\approx\\arg\\min_{\\boldsymbol{\\theta}}-\\dfrac{1}{N}\\sum_{i=1}^{N}\\sum_{n=1}^{k}y_{n,i}\\ln{\\mu_{n}(\\mathbf{x}_{i})}$,\n",
        "\n",
        "where we have reformulated the maximization as a minimization of the negative objective function and approximated the expectation with a sum. As you probably already noticed, the last term is the cross entropy loss that you are familiar with from the lecture. We can now again use SGD or some variant of it in order to minimize the cost function and obtain find some good parameters for our neural network. But keep in mind that while $\\boldsymbol{\\theta}^{\\star}$ are the globally optimal parameters, we are usually only able to find locally optimal parameters due to the non-convex cost function that we are minimizing.\n",
        "\n",
        "## Data set\n",
        "In this exercise we will use common data sets like the MNIST or FashionMNIST data sets. Those and some other data sets are provided through simple functions in the Keras implementation of Tensorflow. For an overview of available data sets and how to use them click [here](https://www.tensorflow.org/versions/r2.0/api_docs/python/tf/keras/datasets). The MNIST data set is a simple and very popular data set for handwritten digit classification. It contains $70000$ images with $28\\times 28$ pixels that are split into $60000$ training and $10000$ test samples. Since the task is to classify a handwritten digit, the labels $y$ for each image are from the set $\\lbrace0,\\ldots,9\\rbrace$. The FashionMNIST data set is very similar to MNIST it also has approximately the same number of images with exactly the same dimensions as MNIST. It was provided by Zalando research and contains $10$ classes of different fashion objects.\n",
        "\n",
        "## Implementation\n",
        "In order to use Tensorflow 2.0 we will again need to manully install it, since it currently is not pre-installed on colab runtime instances."
      ]
    },
    {
      "cell_type": "code",
      "metadata": {
        "id": "La0-_dZvj0bx",
        "colab_type": "code",
        "outputId": "b87416e0-dd29-4c7c-dfce-6ab68e7c7793",
        "colab": {
          "base_uri": "https://localhost:8080/",
          "height": 598
        }
      },
      "source": [
        "!pip3 install tensorflow-gpu==2.0.0-beta0"
      ],
      "execution_count": 0,
      "outputs": [
        {
          "output_type": "stream",
          "text": [
            "Collecting tensorflow-gpu==2.0.0-beta0\n",
            "\u001b[?25l  Downloading https://files.pythonhosted.org/packages/e8/7e/87c4c94686cda7066f52cbca4c344248516490acdd6b258ec6b8a805d956/tensorflow_gpu-2.0.0b0-cp36-cp36m-manylinux1_x86_64.whl (348.8MB)\n",
            "\u001b[K     |████████████████████████████████| 348.9MB 54kB/s \n",
            "\u001b[?25hRequirement already satisfied: keras-applications>=1.0.6 in /usr/local/lib/python3.6/dist-packages (from tensorflow-gpu==2.0.0-beta0) (1.0.8)\n",
            "Requirement already satisfied: protobuf>=3.6.1 in /usr/local/lib/python3.6/dist-packages (from tensorflow-gpu==2.0.0-beta0) (3.7.1)\n",
            "Requirement already satisfied: numpy<2.0,>=1.14.5 in /usr/local/lib/python3.6/dist-packages (from tensorflow-gpu==2.0.0-beta0) (1.16.4)\n",
            "Requirement already satisfied: six>=1.10.0 in /usr/local/lib/python3.6/dist-packages (from tensorflow-gpu==2.0.0-beta0) (1.12.0)\n",
            "Collecting tb-nightly<1.14.0a20190604,>=1.14.0a20190603 (from tensorflow-gpu==2.0.0-beta0)\n",
            "\u001b[?25l  Downloading https://files.pythonhosted.org/packages/a4/96/571b875cd81dda9d5dfa1422a4f9d749e67c0a8d4f4f0b33a4e5f5f35e27/tb_nightly-1.14.0a20190603-py3-none-any.whl (3.1MB)\n",
            "\u001b[K     |████████████████████████████████| 3.1MB 34.9MB/s \n",
            "\u001b[?25hRequirement already satisfied: absl-py>=0.7.0 in /usr/local/lib/python3.6/dist-packages (from tensorflow-gpu==2.0.0-beta0) (0.7.1)\n",
            "Requirement already satisfied: wrapt>=1.11.1 in /usr/local/lib/python3.6/dist-packages (from tensorflow-gpu==2.0.0-beta0) (1.11.2)\n",
            "Requirement already satisfied: keras-preprocessing>=1.0.5 in /usr/local/lib/python3.6/dist-packages (from tensorflow-gpu==2.0.0-beta0) (1.1.0)\n",
            "Requirement already satisfied: wheel>=0.26 in /usr/local/lib/python3.6/dist-packages (from tensorflow-gpu==2.0.0-beta0) (0.33.4)\n",
            "Requirement already satisfied: astor>=0.6.0 in /usr/local/lib/python3.6/dist-packages (from tensorflow-gpu==2.0.0-beta0) (0.8.0)\n",
            "Requirement already satisfied: gast>=0.2.0 in /usr/local/lib/python3.6/dist-packages (from tensorflow-gpu==2.0.0-beta0) (0.2.2)\n",
            "Requirement already satisfied: google-pasta>=0.1.6 in /usr/local/lib/python3.6/dist-packages (from tensorflow-gpu==2.0.0-beta0) (0.1.7)\n",
            "Collecting tf-estimator-nightly<1.14.0.dev2019060502,>=1.14.0.dev2019060501 (from tensorflow-gpu==2.0.0-beta0)\n",
            "\u001b[?25l  Downloading https://files.pythonhosted.org/packages/32/dd/99c47dd007dcf10d63fd895611b063732646f23059c618a373e85019eb0e/tf_estimator_nightly-1.14.0.dev2019060501-py2.py3-none-any.whl (496kB)\n",
            "\u001b[K     |████████████████████████████████| 501kB 42.2MB/s \n",
            "\u001b[?25hRequirement already satisfied: termcolor>=1.1.0 in /usr/local/lib/python3.6/dist-packages (from tensorflow-gpu==2.0.0-beta0) (1.1.0)\n",
            "Requirement already satisfied: grpcio>=1.8.6 in /usr/local/lib/python3.6/dist-packages (from tensorflow-gpu==2.0.0-beta0) (1.15.0)\n",
            "Requirement already satisfied: h5py in /usr/local/lib/python3.6/dist-packages (from keras-applications>=1.0.6->tensorflow-gpu==2.0.0-beta0) (2.8.0)\n",
            "Requirement already satisfied: setuptools in /usr/local/lib/python3.6/dist-packages (from protobuf>=3.6.1->tensorflow-gpu==2.0.0-beta0) (41.0.1)\n",
            "Requirement already satisfied: werkzeug>=0.11.15 in /usr/local/lib/python3.6/dist-packages (from tb-nightly<1.14.0a20190604,>=1.14.0a20190603->tensorflow-gpu==2.0.0-beta0) (0.15.5)\n",
            "Requirement already satisfied: markdown>=2.6.8 in /usr/local/lib/python3.6/dist-packages (from tb-nightly<1.14.0a20190604,>=1.14.0a20190603->tensorflow-gpu==2.0.0-beta0) (3.1.1)\n",
            "Installing collected packages: tb-nightly, tf-estimator-nightly, tensorflow-gpu\n",
            "Successfully installed tb-nightly-1.14.0a20190603 tensorflow-gpu-2.0.0b0 tf-estimator-nightly-1.14.0.dev2019060501\n"
          ],
          "name": "stdout"
        },
        {
          "output_type": "display_data",
          "data": {
            "application/vnd.colab-display-data+json": {
              "pip_warning": {
                "packages": [
                  "tensorboard",
                  "tensorflow",
                  "tensorflow_estimator"
                ]
              }
            }
          },
          "metadata": {
            "tags": []
          }
        }
      ]
    },
    {
      "cell_type": "markdown",
      "metadata": {
        "id": "9Iq7YjxrkEmZ",
        "colab_type": "text"
      },
      "source": [
        "We can then simply import all required packages and load some data set using Keras."
      ]
    },
    {
      "cell_type": "code",
      "metadata": {
        "id": "9Xk5sOe1kLgo",
        "colab_type": "code",
        "outputId": "2f0eff49-df0a-46fc-c8a1-2f62f78af686",
        "colab": {
          "base_uri": "https://localhost:8080/",
          "height": 34
        }
      },
      "source": [
        "import tensorflow as tf\n",
        "import tensorflow.keras as k\n",
        "import numpy as np\n",
        "import matplotlib.pyplot as plt\n",
        "\n",
        "# Define constants\n",
        "batch_size = 128\n",
        "epochs = 20\n",
        "learning_rate = 0.001\n",
        "\n",
        "(x_train_mnist, y_train_mnist), (x_test_mnist, y_test_mnist) = tf.keras.datasets.mnist.load_data()\n",
        "x_train_mnist = np.expand_dims(x_train_mnist, axis=-1).astype(np.float32)\n",
        "x_test_mnist = np.expand_dims(x_test_mnist, axis=-1).astype(np.float32)\n",
        "print(y_train_mnist)"
      ],
      "execution_count": 0,
      "outputs": [
        {
          "output_type": "stream",
          "text": [
            "[5 0 4 ... 5 6 8]\n"
          ],
          "name": "stdout"
        }
      ]
    },
    {
      "cell_type": "markdown",
      "metadata": {
        "id": "jrs0EEdOknCB",
        "colab_type": "text"
      },
      "source": [
        "We can also plot some examples in order to get an impresion of what the data looks like."
      ]
    },
    {
      "cell_type": "code",
      "metadata": {
        "id": "iqN-BjZpkxb4",
        "colab_type": "code",
        "outputId": "3a1895f1-f58a-40bd-c55c-bc0e2af0ff07",
        "colab": {
          "base_uri": "https://localhost:8080/",
          "height": 269
        }
      },
      "source": [
        "plt_img = np.zeros((280, 280))\n",
        "for i in range(10):\n",
        "  for j in range(10):\n",
        "    plt_img[i*28:(i+1)*28, j*28:(j+1)*28] = np.squeeze(x_train_mnist[i*10+j])\n",
        "plt.imshow(plt_img, cmap=\"gray\")\n",
        "plt.axis(\"off\")\n",
        "plt.show()"
      ],
      "execution_count": 0,
      "outputs": [
        {
          "output_type": "display_data",
          "data": {
            "image/png": "[encoded data removed]",
            "text/plain": [
              "<Figure size 432x288 with 1 Axes>"
            ]
          },
          "metadata": {
            "tags": []
          }
        }
      ]
    },
    {
      "cell_type": "markdown",
      "metadata": {
        "id": "83RW1--_mTH7",
        "colab_type": "text"
      },
      "source": [
        "Similar to the previous exercises we again derive a class for our model from the Keras Model class."
      ]
    },
    {
      "cell_type": "code",
      "metadata": {
        "id": "tmk7DlUWoq5X",
        "colab_type": "code",
        "colab": {}
      },
      "source": [
        "\"\"\" Define a small convolutional network for classification with two conv. and 3 dense layers. The conv. layers should have 8/16 filters a kernel size of 3x3 and a stride of 2. The dense layers should have 128/64/? \n",
        "neurons. Choose the activation functions of the layers accordingly.\"\"\"\n",
        "\n",
        "class MyModel(k.Model):\n",
        "    def __init__(self):\n",
        "        super(MyModel, self).__init__()\n",
        "        # Layer definition\n",
        "        self.conv0 = k.layers.Conv2D(8,(3,3),strides = 2,activation='relu',input_shape=(28,28,1))\n",
        "        self.conv1 = k.layers.Conv2D(16,(3,3),strides = 2,activation='relu')\n",
        "        self.flatten = k.layers.Flatten()\n",
        "        self.dense0 = k.layers.Dense(128,activation='relu')\n",
        "        self.dense1 = k.layers.Dense(64,activation='relu')\n",
        "        self.dense2 = k.layers.Dense(10,activation='softmax')\n",
        "\n",
        "    def call(self, inputs, training=False):\n",
        "        # Call layers appropriately to implement a forward pass\n",
        "        output = self.conv0(inputs)\n",
        "        output = self.conv1(output)\n",
        "        output = self.flatten(output)\n",
        "        output = self.dense0(output)\n",
        "        output = self.dense1(output)\n",
        "        output = self.dense2(output)\n",
        "        return output"
      ],
      "execution_count": 0,
      "outputs": []
    },
    {
      "cell_type": "markdown",
      "metadata": {
        "id": "1yVUfCeso4TS",
        "colab_type": "text"
      },
      "source": [
        "We can now instanciate an object of this class and compile it using the the cross-entropy loss function."
      ]
    },
    {
      "cell_type": "code",
      "metadata": {
        "id": "1-hWI4rVpvdU",
        "colab_type": "code",
        "colab": {}
      },
      "source": [
        "\"\"\" Instantiate an object of MyModel and an RMSprop optimizer with learning rate given by the constant \"learning_rate\". Compile the model with a suitable loss function and add accuracy as a metric. \"\"\"\n",
        "\n",
        "mdl = MyModel()\n",
        "opt = tf.optimizers.RMSprop(learning_rate)\n",
        "mdl.compile(optimizer = opt,\n",
        "            loss = 'sparse_categorical_crossentropy',\n",
        "            metrics=['accuracy'])"
      ],
      "execution_count": 0,
      "outputs": []
    },
    {
      "cell_type": "markdown",
      "metadata": {
        "id": "bzMR_g1-qHTx",
        "colab_type": "text"
      },
      "source": [
        "Now we are ready to train the model and log the metrics for plotting."
      ]
    },
    {
      "cell_type": "code",
      "metadata": {
        "id": "V1vU1bnnqJZG",
        "colab_type": "code",
        "outputId": "872e2b8b-d502-4b28-df55-72a300269946",
        "colab": {
          "base_uri": "https://localhost:8080/",
          "height": 714
        }
      },
      "source": [
        "\"\"\" Train the model mdl on the training data with a batch size of \"batch_size\" for \"epochs\" epochs. Train with 10% of the training data as validation data. \"\"\"\n",
        "\n",
        "history_no_dropout = mdl.fit(x_train_mnist, y_train_mnist,batch_size =batch_size,epochs = epochs,validation_split = 0.1,shuffle=True)"
      ],
      "execution_count": 0,
      "outputs": [
        {
          "output_type": "stream",
          "text": [
            "Train on 54000 samples, validate on 6000 samples\n",
            "Epoch 1/20\n",
            "54000/54000 [==============================] - 2s 36us/sample - loss: 0.8039 - accuracy: 0.8766 - val_loss: 0.1304 - val_accuracy: 0.9627\n",
            "Epoch 2/20\n",
            "54000/54000 [==============================] - 2s 30us/sample - loss: 0.1157 - accuracy: 0.9656 - val_loss: 0.0898 - val_accuracy: 0.9753\n",
            "Epoch 3/20\n",
            "54000/54000 [==============================] - 2s 30us/sample - loss: 0.0732 - accuracy: 0.9783 - val_loss: 0.0759 - val_accuracy: 0.9772\n",
            "Epoch 4/20\n",
            "54000/54000 [==============================] - 2s 29us/sample - loss: 0.0515 - accuracy: 0.9840 - val_loss: 0.0837 - val_accuracy: 0.9795\n",
            "Epoch 5/20\n",
            "54000/54000 [==============================] - 2s 30us/sample - loss: 0.0401 - accuracy: 0.9874 - val_loss: 0.0731 - val_accuracy: 0.9838\n",
            "Epoch 6/20\n",
            "54000/54000 [==============================] - 2s 30us/sample - loss: 0.0314 - accuracy: 0.9902 - val_loss: 0.0769 - val_accuracy: 0.9825\n",
            "Epoch 7/20\n",
            "54000/54000 [==============================] - 2s 30us/sample - loss: 0.0278 - accuracy: 0.9913 - val_loss: 0.0840 - val_accuracy: 0.9827\n",
            "Epoch 8/20\n",
            "54000/54000 [==============================] - 2s 30us/sample - loss: 0.0208 - accuracy: 0.9934 - val_loss: 0.0915 - val_accuracy: 0.9830\n",
            "Epoch 9/20\n",
            "54000/54000 [==============================] - 2s 30us/sample - loss: 0.0191 - accuracy: 0.9941 - val_loss: 0.0820 - val_accuracy: 0.9838\n",
            "Epoch 10/20\n",
            "54000/54000 [==============================] - 2s 30us/sample - loss: 0.0158 - accuracy: 0.9951 - val_loss: 0.0808 - val_accuracy: 0.9840\n",
            "Epoch 11/20\n",
            "54000/54000 [==============================] - 2s 29us/sample - loss: 0.0134 - accuracy: 0.9958 - val_loss: 0.1102 - val_accuracy: 0.9830\n",
            "Epoch 12/20\n",
            "54000/54000 [==============================] - 2s 29us/sample - loss: 0.0128 - accuracy: 0.9962 - val_loss: 0.1175 - val_accuracy: 0.9820\n",
            "Epoch 13/20\n",
            "54000/54000 [==============================] - 2s 28us/sample - loss: 0.0119 - accuracy: 0.9963 - val_loss: 0.0928 - val_accuracy: 0.9843\n",
            "Epoch 14/20\n",
            "54000/54000 [==============================] - 2s 29us/sample - loss: 0.0109 - accuracy: 0.9969 - val_loss: 0.1057 - val_accuracy: 0.9847\n",
            "Epoch 15/20\n",
            "54000/54000 [==============================] - 2s 30us/sample - loss: 0.0097 - accuracy: 0.9968 - val_loss: 0.1022 - val_accuracy: 0.9853\n",
            "Epoch 16/20\n",
            "54000/54000 [==============================] - 2s 30us/sample - loss: 0.0100 - accuracy: 0.9970 - val_loss: 0.1206 - val_accuracy: 0.9838\n",
            "Epoch 17/20\n",
            "54000/54000 [==============================] - 2s 29us/sample - loss: 0.0122 - accuracy: 0.9969 - val_loss: 0.1112 - val_accuracy: 0.9842\n",
            "Epoch 18/20\n",
            "54000/54000 [==============================] - 2s 29us/sample - loss: 0.0097 - accuracy: 0.9972 - val_loss: 0.1010 - val_accuracy: 0.9865\n",
            "Epoch 19/20\n",
            "54000/54000 [==============================] - 2s 30us/sample - loss: 0.0092 - accuracy: 0.9972 - val_loss: 0.0957 - val_accuracy: 0.9873\n",
            "Epoch 20/20\n",
            "54000/54000 [==============================] - 2s 29us/sample - loss: 0.0093 - accuracy: 0.9975 - val_loss: 0.0975 - val_accuracy: 0.9883\n"
          ],
          "name": "stdout"
        }
      ]
    },
    {
      "cell_type": "markdown",
      "metadata": {
        "id": "4OhKjUnwtr3M",
        "colab_type": "text"
      },
      "source": [
        "Visualizing the training process in a plot is possible by using the history object that contains a history dictionary. This is returned from the fit function and contains all the metrics logged over the training proces."
      ]
    },
    {
      "cell_type": "code",
      "metadata": {
        "id": "bPuH5kBQt5yw",
        "colab_type": "code",
        "outputId": "ec6b90b5-9d5c-41f5-ebed-88470fe52ec6",
        "colab": {
          "base_uri": "https://localhost:8080/",
          "height": 295
        }
      },
      "source": [
        "plt.plot(history_no_dropout.history[\"loss\"])\n",
        "plt.plot(history_no_dropout.history[\"val_loss\"])\n",
        "plt.legend([\"loss\", \"val_loss\"])\n",
        "plt.xticks(range(epochs))\n",
        "plt.xlabel(\"epochs\")\n",
        "plt.title(\"Training process\")\n",
        "plt.show()"
      ],
      "execution_count": 0,
      "outputs": [
        {
          "output_type": "display_data",
          "data": {
            "image/png": "[encoded data removed]",
            "text/plain": [
              "<Figure size 432x288 with 1 Axes>"
            ]
          },
          "metadata": {
            "tags": []
          }
        }
      ]
    },
    {
      "cell_type": "markdown",
      "metadata": {
        "id": "bB1KeA-Ww9nE",
        "colab_type": "text"
      },
      "source": [
        "As you can see, the model is clearly overfitting. The loss on the training data is decreasing further and further with every epoch, while the loss on the validation data rises at the same time. We can avoid this by using dropout, which is a strong regularization that you should be familiar with from the lecture. For this we define a new model that has an additional dropout layer with a drop probability of $0.2$ before the first fully connected layer. Otherwise this model is the same as the model above."
      ]
    },
    {
      "cell_type": "code",
      "metadata": {
        "id": "NowP4zSsxfhe",
        "colab_type": "code",
        "colab": {}
      },
      "source": [
        "\"\"\" Create a new model, which is identical to MyModel execpt for a dropout layer between the conv. and dense layers. As a dropout rate use 0.25 \"\"\"\n",
        "\n",
        "class MyDropoutModel(k.Model):\n",
        "    def __init__(self):\n",
        "        super(MyDropoutModel, self).__init__()\n",
        "        # Layer definition\n",
        "        self.conv0 = k.layers.Conv2D(8,(3,3),strides = 2,activation='relu',input_shape=(28,28,1))\n",
        "        self.conv1 = k.layers.Conv2D(16,(3,3),strides = 2,activation='relu')\n",
        "        self.flatten = k.layers.Flatten()\n",
        "        self.dropout = k.layers.Dropout(0.2)\n",
        "        self.dense0 = k.layers.Dense(128,activation='relu')\n",
        "        self.dense1 = k.layers.Dense(64,activation='relu')\n",
        "        self.dense2 = k.layers.Dense(10,activation='softmax')\n",
        "\n",
        "    def call(self, inputs, training=False):\n",
        "        # Call layers appropriately in order to implement the forward pass\n",
        "        output = self.conv0(inputs)\n",
        "        output = self.conv1(output)\n",
        "        output = self.flatten(output)\n",
        "        output = self.dropout(output)\n",
        "        output = self.dense0(output)\n",
        "        output = self.dense1(output)\n",
        "        output = self.dense2(output)\n",
        "        return output"
      ],
      "execution_count": 0,
      "outputs": []
    },
    {
      "cell_type": "markdown",
      "metadata": {
        "id": "_XivWPeUxphB",
        "colab_type": "text"
      },
      "source": [
        "We can now create an instance of this model, train it and visualize the training process."
      ]
    },
    {
      "cell_type": "code",
      "metadata": {
        "id": "VZxNQX2Bxtno",
        "colab_type": "code",
        "outputId": "b2ee6810-2de3-4dff-dc65-d7f601d5ec38",
        "colab": {
          "base_uri": "https://localhost:8080/",
          "height": 992
        }
      },
      "source": [
        "\"\"\" Instantiate a MyDropoutModel object, compile and train it on the training data. Use the same optimizer and parameters for training as before. \"\"\"\n",
        "\n",
        "dropout_mdl = MyDropoutModel()\n",
        "dropout_opt = tf.optimizers.RMSprop(learning_rate)\n",
        "dropout_mdl.compile(optimizer = opt,\n",
        "            loss = 'sparse_categorical_crossentropy',\n",
        "            metrics=['accuracy'])\n",
        "\n",
        "history_dropout = dropout_mdl.fit(x_train_mnist, y_train_mnist,batch_size =batch_size,epochs = epochs,validation_split = 0.1,shuffle=True)\n",
        "\n",
        "plt.plot(history_no_dropout.history[\"loss\"])\n",
        "plt.plot(history_no_dropout.history[\"val_loss\"])\n",
        "plt.plot(history_dropout.history[\"loss\"])\n",
        "plt.plot(history_dropout.history[\"val_loss\"])\n",
        "plt.legend([\"loss\", \"val_loss\", \"loss w. dropout\", \"val_loss w. dropout\"])\n",
        "plt.xticks(range(epochs))\n",
        "plt.xlabel(\"epochs\")\n",
        "plt.title(\"Training process\")\n",
        "plt.show()"
      ],
      "execution_count": 0,
      "outputs": [
        {
          "output_type": "stream",
          "text": [
            "Train on 54000 samples, validate on 6000 samples\n",
            "Epoch 1/20\n",
            "54000/54000 [==============================] - 2s 45us/sample - loss: 1.1274 - accuracy: 0.8444 - val_loss: 0.1289 - val_accuracy: 0.9627\n",
            "Epoch 2/20\n",
            "54000/54000 [==============================] - 2s 38us/sample - loss: 0.1430 - accuracy: 0.9563 - val_loss: 0.0832 - val_accuracy: 0.9748\n",
            "Epoch 3/20\n",
            "54000/54000 [==============================] - 2s 38us/sample - loss: 0.0958 - accuracy: 0.9709 - val_loss: 0.0760 - val_accuracy: 0.9788\n",
            "Epoch 4/20\n",
            "54000/54000 [==============================] - 2s 37us/sample - loss: 0.0770 - accuracy: 0.9760 - val_loss: 0.0681 - val_accuracy: 0.9818\n",
            "Epoch 5/20\n",
            "54000/54000 [==============================] - 2s 38us/sample - loss: 0.0666 - accuracy: 0.9795 - val_loss: 0.0570 - val_accuracy: 0.9862\n",
            "Epoch 6/20\n",
            "54000/54000 [==============================] - 2s 38us/sample - loss: 0.0583 - accuracy: 0.9818 - val_loss: 0.0602 - val_accuracy: 0.9828\n",
            "Epoch 7/20\n",
            "54000/54000 [==============================] - 2s 38us/sample - loss: 0.0492 - accuracy: 0.9844 - val_loss: 0.0595 - val_accuracy: 0.9842\n",
            "Epoch 8/20\n",
            "54000/54000 [==============================] - 2s 37us/sample - loss: 0.0476 - accuracy: 0.9849 - val_loss: 0.0541 - val_accuracy: 0.9868\n",
            "Epoch 9/20\n",
            "54000/54000 [==============================] - 2s 38us/sample - loss: 0.0437 - accuracy: 0.9863 - val_loss: 0.0587 - val_accuracy: 0.9860\n",
            "Epoch 10/20\n",
            "54000/54000 [==============================] - 2s 38us/sample - loss: 0.0388 - accuracy: 0.9879 - val_loss: 0.0596 - val_accuracy: 0.9848\n",
            "Epoch 11/20\n",
            "54000/54000 [==============================] - 2s 37us/sample - loss: 0.0359 - accuracy: 0.9888 - val_loss: 0.0523 - val_accuracy: 0.9878\n",
            "Epoch 12/20\n",
            "54000/54000 [==============================] - 2s 38us/sample - loss: 0.0366 - accuracy: 0.9885 - val_loss: 0.0561 - val_accuracy: 0.9867\n",
            "Epoch 13/20\n",
            "54000/54000 [==============================] - 2s 37us/sample - loss: 0.0314 - accuracy: 0.9901 - val_loss: 0.0546 - val_accuracy: 0.9867\n",
            "Epoch 14/20\n",
            "54000/54000 [==============================] - 2s 38us/sample - loss: 0.0296 - accuracy: 0.9907 - val_loss: 0.0585 - val_accuracy: 0.9865\n",
            "Epoch 15/20\n",
            "54000/54000 [==============================] - 2s 38us/sample - loss: 0.0300 - accuracy: 0.9907 - val_loss: 0.0629 - val_accuracy: 0.9855\n",
            "Epoch 16/20\n",
            "54000/54000 [==============================] - 2s 37us/sample - loss: 0.0304 - accuracy: 0.9902 - val_loss: 0.0570 - val_accuracy: 0.9867\n",
            "Epoch 17/20\n",
            "54000/54000 [==============================] - 2s 40us/sample - loss: 0.0312 - accuracy: 0.9901 - val_loss: 0.0635 - val_accuracy: 0.9875\n",
            "Epoch 18/20\n",
            "54000/54000 [==============================] - 2s 40us/sample - loss: 0.0288 - accuracy: 0.9906 - val_loss: 0.0492 - val_accuracy: 0.9895\n",
            "Epoch 19/20\n",
            "54000/54000 [==============================] - 2s 39us/sample - loss: 0.0266 - accuracy: 0.9919 - val_loss: 0.0519 - val_accuracy: 0.9890\n",
            "Epoch 20/20\n",
            "54000/54000 [==============================] - 2s 39us/sample - loss: 0.0274 - accuracy: 0.9916 - val_loss: 0.0573 - val_accuracy: 0.9885\n"
          ],
          "name": "stdout"
        },
        {
          "output_type": "display_data",
          "data": {
            "image/png": "[encoded data removed]",
            "text/plain": [
              "<Figure size 432x288 with 1 Axes>"
            ]
          },
          "metadata": {
            "tags": []
          }
        }
      ]
    },
    {
      "cell_type": "markdown",
      "metadata": {
        "id": "bKRoJPWNNBxS",
        "colab_type": "text"
      },
      "source": [
        "While the model without dropout can reach a much lower loss on the training data, it generalizes very poorly to the unseen validation data. The model with dropout however generalizes quite good to the validation data and achieves a similar loss on both the data used during training and unseen data. This demonstrates that using dropout can be a good way to regularize your networks and prevent overfitting. Although dropout helps to prevent overfitting very well, it introduces another hyperparameter, the drop probability, that needs to be optimized. Common values for this hyperparameter are on the interval $\\left[0.2,0.5\\right]$.\n",
        "\n",
        "## Transfer Learning\n",
        "In many applications there is only a limited amount of annotated data available. In order to still train a neural network that generalizes well on such a data set, one can use transfer learning. In transfer learning the goal is to transfer knowledge from a source domain or task to a target domain or rask. The hope is that this transfer will be positive, i.e. the performance on the target domain or task increases compared to only training on the target data set. A requirement for succesfull transfer learning is that the source and target have something in common, e.g. similar features. There is a broad literature on transfer learning methods but in this exercise we will restrict ourselves to the most basic approach, fine tuning. Fine tuning can be implemented by using a part of a neural network, which was trained on the source domain or task, as a feature extractor. A common approach is to use neral network pretrained on the ImageNet data set as a feature extractor. In this exercise we will also use a neural network pretrained on ImageNet in order to fine tune it for the [Caltech 101](http://www.vision.caltech.edu/Image_Datasets/Caltech101/) data set. For a guide on transfer learning using fine tuning with Keras click [here](https://www.tensorflow.org/beta/tutorials/images/transfer_learning).\n",
        "\n",
        "In order to do this we first need to download an extract the data set."
      ]
    },
    {
      "cell_type": "code",
      "metadata": {
        "id": "WZLz-aD6tgvR",
        "colab_type": "code",
        "outputId": "69e3b9b9-91b7-43da-e70a-195af15e77cd",
        "colab": {
          "base_uri": "https://localhost:8080/",
          "height": 204
        }
      },
      "source": [
        "!wget -N http://www.vision.caltech.edu/Image_Datasets/Caltech101/101_ObjectCategories.tar.gz\n",
        "!tar -xzf 101_ObjectCategories.tar.gz"
      ],
      "execution_count": 0,
      "outputs": [
        {
          "output_type": "stream",
          "text": [
            "--2019-08-21 14:44:45--  http://www.vision.caltech.edu/Image_Datasets/Caltech101/101_ObjectCategories.tar.gz\n",
            "Resolving www.vision.caltech.edu (www.vision.caltech.edu)... 34.208.54.77\n",
            "Connecting to www.vision.caltech.edu (www.vision.caltech.edu)|34.208.54.77|:80... connected.\n",
            "HTTP request sent, awaiting response... 200 OK\n",
            "Length: 131740031 (126M) [application/x-tar]\n",
            "Saving to: ‘101_ObjectCategories.tar.gz’\n",
            "\n",
            "101_ObjectCategorie 100%[===================>] 125.64M  7.20MB/s    in 20s     \n",
            "\n",
            "2019-08-21 14:45:06 (6.32 MB/s) - ‘101_ObjectCategories.tar.gz’ saved [131740031/131740031]\n",
            "\n"
          ],
          "name": "stdout"
        }
      ]
    },
    {
      "cell_type": "markdown",
      "metadata": {
        "id": "4YVR0yd-3A3w",
        "colab_type": "text"
      },
      "source": [
        "In order to feed our model with the data, we will use the ImageDataGenerator class provided by Keras. This class can be used for reading files from a structured directory, create the labels based on the structure of the directory and apply data augmentation techniques. The ImageDataGenerator already supports a lot of techniques for data augmentation. In our example, we use a random rotation, width shift, height shift, shearing, zomming and horizontal flipping. All of those operations are applied randomly to individual images. More information on the available transformations for data augmentation and how to use them see the [documentation](https://www.tensorflow.org/versions/r2.0/api_docs/python/tf/keras/preprocessing/image/ImageDataGenerator#__init__)."
      ]
    },
    {
      "cell_type": "code",
      "metadata": {
        "id": "WueTCO3F3iKl",
        "colab_type": "code",
        "colab": {}
      },
      "source": [
        "N_samples_Caltech101 = 9247\n",
        "val_split = 0.1\n",
        "datagen = k.preprocessing.image.ImageDataGenerator(validation_split=val_split,\n",
        "                                                   preprocessing_function=k.applications.mobilenet_v2.preprocess_input,\n",
        "                                                   rotation_range=20,\n",
        "                                                   width_shift_range=0.1,\n",
        "                                                   height_shift_range=0.1,\n",
        "                                                   shear_range=0.1,\n",
        "                                                   zoom_range=0.1,\n",
        "                                                   horizontal_flip=True)"
      ],
      "execution_count": 0,
      "outputs": []
    },
    {
      "cell_type": "markdown",
      "metadata": {
        "id": "PyqbHZfO0ein",
        "colab_type": "text"
      },
      "source": [
        "Now that we have the data set we can load the pretrained model. Keras provides a range of pretrained models called \"applications\". We will use the MobileNetV2 architecture without it's output layer, since we want to modify it in order to aplly the model to the Caltech 101 data set."
      ]
    },
    {
      "cell_type": "code",
      "metadata": {
        "id": "ZkGHDLKZ0uUy",
        "colab_type": "code",
        "outputId": "49c93209-1414-480e-8e33-545f26e2c013",
        "colab": {
          "base_uri": "https://localhost:8080/",
          "height": 1000
        }
      },
      "source": [
        "\"\"\" Instantiate a MobileNetV2 with weights pretrained on ImageNet and without the top/output layer. Hint: Use Keras Applications\"\"\"\n",
        "\n",
        "base_model = k.applications.mobilenet_v2.MobileNetV2(weights='imagenet',include_top=False)\n",
        "base_model.summary()"
      ],
      "execution_count": 0,
      "outputs": [
        {
          "output_type": "stream",
          "text": [
            "/usr/local/lib/python3.6/dist-packages/keras_applications/mobilenet_v2.py:294: UserWarning: `input_shape` is undefined or non-square, or `rows` is not in [96, 128, 160, 192, 224]. Weights for input shape (224, 224) will be loaded as the default.\n",
            "  warnings.warn('`input_shape` is undefined or non-square, '\n"
          ],
          "name": "stderr"
        },
        {
          "output_type": "stream",
          "text": [
            "Model: \"mobilenetv2_1.00_224\"\n",
            "__________________________________________________________________________________________________\n",
            "Layer (type)                    Output Shape         Param #     Connected to                     \n",
            "==================================================================================================\n",
            "input_1 (InputLayer)            [(None, None, None,  0                                            \n",
            "__________________________________________________________________________________________________\n",
            "Conv1_pad (ZeroPadding2D)       (None, None, None, 3 0           input_1[0][0]                    \n",
            "__________________________________________________________________________________________________\n",
            "Conv1 (Conv2D)                  (None, None, None, 3 864         Conv1_pad[0][0]                  \n",
            "__________________________________________________________________________________________________\n",
            "bn_Conv1 (BatchNormalization)   (None, None, None, 3 128         Conv1[0][0]                      \n",
            "__________________________________________________________________________________________________\n",
            "Conv1_relu (ReLU)               (None, None, None, 3 0           bn_Conv1[0][0]                   \n",
            "__________________________________________________________________________________________________\n",
            "expanded_conv_depthwise (Depthw (None, None, None, 3 288         Conv1_relu[0][0]                 \n",
            "__________________________________________________________________________________________________\n",
            "expanded_conv_depthwise_BN (Bat (None, None, None, 3 128         expanded_conv_depthwise[0][0]    \n",
            "__________________________________________________________________________________________________\n",
            "expanded_conv_depthwise_relu (R (None, None, None, 3 0           expanded_conv_depthwise_BN[0][0] \n",
            "__________________________________________________________________________________________________\n",
            "expanded_conv_project (Conv2D)  (None, None, None, 1 512         expanded_conv_depthwise_relu[0][0\n",
            "__________________________________________________________________________________________________\n",
            "expanded_conv_project_BN (Batch (None, None, None, 1 64          expanded_conv_project[0][0]      \n",
            "__________________________________________________________________________________________________\n",
            "block_1_expand (Conv2D)         (None, None, None, 9 1536        expanded_conv_project_BN[0][0]   \n",
            "__________________________________________________________________________________________________\n",
            "block_1_expand_BN (BatchNormali (None, None, None, 9 384         block_1_expand[0][0]             \n",
            "__________________________________________________________________________________________________\n",
            "block_1_expand_relu (ReLU)      (None, None, None, 9 0           block_1_expand_BN[0][0]          \n",
            "__________________________________________________________________________________________________\n",
            "block_1_pad (ZeroPadding2D)     (None, None, None, 9 0           block_1_expand_relu[0][0]        \n",
            "__________________________________________________________________________________________________\n",
            "block_1_depthwise (DepthwiseCon (None, None, None, 9 864         block_1_pad[0][0]                \n",
            "__________________________________________________________________________________________________\n",
            "block_1_depthwise_BN (BatchNorm (None, None, None, 9 384         block_1_depthwise[0][0]          \n",
            "__________________________________________________________________________________________________\n",
            "block_1_depthwise_relu (ReLU)   (None, None, None, 9 0           block_1_depthwise_BN[0][0]       \n",
            "__________________________________________________________________________________________________\n",
            "block_1_project (Conv2D)        (None, None, None, 2 2304        block_1_depthwise_relu[0][0]     \n",
            "__________________________________________________________________________________________________\n",
            "block_1_project_BN (BatchNormal (None, None, None, 2 96          block_1_project[0][0]            \n",
            "__________________________________________________________________________________________________\n",
            "block_2_expand (Conv2D)         (None, None, None, 1 3456        block_1_project_BN[0][0]         \n",
            "__________________________________________________________________________________________________\n",
            "block_2_expand_BN (BatchNormali (None, None, None, 1 576         block_2_expand[0][0]             \n",
            "__________________________________________________________________________________________________\n",
            "block_2_expand_relu (ReLU)      (None, None, None, 1 0           block_2_expand_BN[0][0]          \n",
            "__________________________________________________________________________________________________\n",
            "block_2_depthwise (DepthwiseCon (None, None, None, 1 1296        block_2_expand_relu[0][0]        \n",
            "__________________________________________________________________________________________________\n",
            "block_2_depthwise_BN (BatchNorm (None, None, None, 1 576         block_2_depthwise[0][0]          \n",
            "__________________________________________________________________________________________________\n",
            "block_2_depthwise_relu (ReLU)   (None, None, None, 1 0           block_2_depthwise_BN[0][0]       \n",
            "__________________________________________________________________________________________________\n",
            "block_2_project (Conv2D)        (None, None, None, 2 3456        block_2_depthwise_relu[0][0]     \n",
            "__________________________________________________________________________________________________\n",
            "block_2_project_BN (BatchNormal (None, None, None, 2 96          block_2_project[0][0]            \n",
            "__________________________________________________________________________________________________\n",
            "block_2_add (Add)               (None, None, None, 2 0           block_1_project_BN[0][0]         \n",
            "                                                                 block_2_project_BN[0][0]         \n",
            "__________________________________________________________________________________________________\n",
            "block_3_expand (Conv2D)         (None, None, None, 1 3456        block_2_add[0][0]                \n",
            "__________________________________________________________________________________________________\n",
            "block_3_expand_BN (BatchNormali (None, None, None, 1 576         block_3_expand[0][0]             \n",
            "__________________________________________________________________________________________________\n",
            "block_3_expand_relu (ReLU)      (None, None, None, 1 0           block_3_expand_BN[0][0]          \n",
            "__________________________________________________________________________________________________\n",
            "block_3_pad (ZeroPadding2D)     (None, None, None, 1 0           block_3_expand_relu[0][0]        \n",
            "__________________________________________________________________________________________________\n",
            "block_3_depthwise (DepthwiseCon (None, None, None, 1 1296        block_3_pad[0][0]                \n",
            "__________________________________________________________________________________________________\n",
            "block_3_depthwise_BN (BatchNorm (None, None, None, 1 576         block_3_depthwise[0][0]          \n",
            "__________________________________________________________________________________________________\n",
            "block_3_depthwise_relu (ReLU)   (None, None, None, 1 0           block_3_depthwise_BN[0][0]       \n",
            "__________________________________________________________________________________________________\n",
            "block_3_project (Conv2D)        (None, None, None, 3 4608        block_3_depthwise_relu[0][0]     \n",
            "__________________________________________________________________________________________________\n",
            "block_3_project_BN (BatchNormal (None, None, None, 3 128         block_3_project[0][0]            \n",
            "__________________________________________________________________________________________________\n",
            "block_4_expand (Conv2D)         (None, None, None, 1 6144        block_3_project_BN[0][0]         \n",
            "__________________________________________________________________________________________________\n",
            "block_4_expand_BN (BatchNormali (None, None, None, 1 768         block_4_expand[0][0]             \n",
            "__________________________________________________________________________________________________\n",
            "block_4_expand_relu (ReLU)      (None, None, None, 1 0           block_4_expand_BN[0][0]          \n",
            "__________________________________________________________________________________________________\n",
            "block_4_depthwise (DepthwiseCon (None, None, None, 1 1728        block_4_expand_relu[0][0]        \n",
            "__________________________________________________________________________________________________\n",
            "block_4_depthwise_BN (BatchNorm (None, None, None, 1 768         block_4_depthwise[0][0]          \n",
            "__________________________________________________________________________________________________\n",
            "block_4_depthwise_relu (ReLU)   (None, None, None, 1 0           block_4_depthwise_BN[0][0]       \n",
            "__________________________________________________________________________________________________\n",
            "block_4_project (Conv2D)        (None, None, None, 3 6144        block_4_depthwise_relu[0][0]     \n",
            "__________________________________________________________________________________________________\n",
            "block_4_project_BN (BatchNormal (None, None, None, 3 128         block_4_project[0][0]            \n",
            "__________________________________________________________________________________________________\n",
            "block_4_add (Add)               (None, None, None, 3 0           block_3_project_BN[0][0]         \n",
            "                                                                 block_4_project_BN[0][0]         \n",
            "__________________________________________________________________________________________________\n",
            "block_5_expand (Conv2D)         (None, None, None, 1 6144        block_4_add[0][0]                \n",
            "__________________________________________________________________________________________________\n",
            "block_5_expand_BN (BatchNormali (None, None, None, 1 768         block_5_expand[0][0]             \n",
            "__________________________________________________________________________________________________\n",
            "block_5_expand_relu (ReLU)      (None, None, None, 1 0           block_5_expand_BN[0][0]          \n",
            "__________________________________________________________________________________________________\n",
            "block_5_depthwise (DepthwiseCon (None, None, None, 1 1728        block_5_expand_relu[0][0]        \n",
            "__________________________________________________________________________________________________\n",
            "block_5_depthwise_BN (BatchNorm (None, None, None, 1 768         block_5_depthwise[0][0]          \n",
            "__________________________________________________________________________________________________\n",
            "block_5_depthwise_relu (ReLU)   (None, None, None, 1 0           block_5_depthwise_BN[0][0]       \n",
            "__________________________________________________________________________________________________\n",
            "block_5_project (Conv2D)        (None, None, None, 3 6144        block_5_depthwise_relu[0][0]     \n",
            "__________________________________________________________________________________________________\n",
            "block_5_project_BN (BatchNormal (None, None, None, 3 128         block_5_project[0][0]            \n",
            "__________________________________________________________________________________________________\n",
            "block_5_add (Add)               (None, None, None, 3 0           block_4_add[0][0]                \n",
            "                                                                 block_5_project_BN[0][0]         \n",
            "__________________________________________________________________________________________________\n",
            "block_6_expand (Conv2D)         (None, None, None, 1 6144        block_5_add[0][0]                \n",
            "__________________________________________________________________________________________________\n",
            "block_6_expand_BN (BatchNormali (None, None, None, 1 768         block_6_expand[0][0]             \n",
            "__________________________________________________________________________________________________\n",
            "block_6_expand_relu (ReLU)      (None, None, None, 1 0           block_6_expand_BN[0][0]          \n",
            "__________________________________________________________________________________________________\n",
            "block_6_pad (ZeroPadding2D)     (None, None, None, 1 0           block_6_expand_relu[0][0]        \n",
            "__________________________________________________________________________________________________\n",
            "block_6_depthwise (DepthwiseCon (None, None, None, 1 1728        block_6_pad[0][0]                \n",
            "__________________________________________________________________________________________________\n",
            "block_6_depthwise_BN (BatchNorm (None, None, None, 1 768         block_6_depthwise[0][0]          \n",
            "__________________________________________________________________________________________________\n",
            "block_6_depthwise_relu (ReLU)   (None, None, None, 1 0           block_6_depthwise_BN[0][0]       \n",
            "__________________________________________________________________________________________________\n",
            "block_6_project (Conv2D)        (None, None, None, 6 12288       block_6_depthwise_relu[0][0]     \n",
            "__________________________________________________________________________________________________\n",
            "block_6_project_BN (BatchNormal (None, None, None, 6 256         block_6_project[0][0]            \n",
            "__________________________________________________________________________________________________\n",
            "block_7_expand (Conv2D)         (None, None, None, 3 24576       block_6_project_BN[0][0]         \n",
            "__________________________________________________________________________________________________\n",
            "block_7_expand_BN (BatchNormali (None, None, None, 3 1536        block_7_expand[0][0]             \n",
            "__________________________________________________________________________________________________\n",
            "block_7_expand_relu (ReLU)      (None, None, None, 3 0           block_7_expand_BN[0][0]          \n",
            "__________________________________________________________________________________________________\n",
            "block_7_depthwise (DepthwiseCon (None, None, None, 3 3456        block_7_expand_relu[0][0]        \n",
            "__________________________________________________________________________________________________\n",
            "block_7_depthwise_BN (BatchNorm (None, None, None, 3 1536        block_7_depthwise[0][0]          \n",
            "__________________________________________________________________________________________________\n",
            "block_7_depthwise_relu (ReLU)   (None, None, None, 3 0           block_7_depthwise_BN[0][0]       \n",
            "__________________________________________________________________________________________________\n",
            "block_7_project (Conv2D)        (None, None, None, 6 24576       block_7_depthwise_relu[0][0]     \n",
            "__________________________________________________________________________________________________\n",
            "block_7_project_BN (BatchNormal (None, None, None, 6 256         block_7_project[0][0]            \n",
            "__________________________________________________________________________________________________\n",
            "block_7_add (Add)               (None, None, None, 6 0           block_6_project_BN[0][0]         \n",
            "                                                                 block_7_project_BN[0][0]         \n",
            "__________________________________________________________________________________________________\n",
            "block_8_expand (Conv2D)         (None, None, None, 3 24576       block_7_add[0][0]                \n",
            "__________________________________________________________________________________________________\n",
            "block_8_expand_BN (BatchNormali (None, None, None, 3 1536        block_8_expand[0][0]             \n",
            "__________________________________________________________________________________________________\n",
            "block_8_expand_relu (ReLU)      (None, None, None, 3 0           block_8_expand_BN[0][0]          \n",
            "__________________________________________________________________________________________________\n",
            "block_8_depthwise (DepthwiseCon (None, None, None, 3 3456        block_8_expand_relu[0][0]        \n",
            "__________________________________________________________________________________________________\n",
            "block_8_depthwise_BN (BatchNorm (None, None, None, 3 1536        block_8_depthwise[0][0]          \n",
            "__________________________________________________________________________________________________\n",
            "block_8_depthwise_relu (ReLU)   (None, None, None, 3 0           block_8_depthwise_BN[0][0]       \n",
            "__________________________________________________________________________________________________\n",
            "block_8_project (Conv2D)        (None, None, None, 6 24576       block_8_depthwise_relu[0][0]     \n",
            "__________________________________________________________________________________________________\n",
            "block_8_project_BN (BatchNormal (None, None, None, 6 256         block_8_project[0][0]            \n",
            "__________________________________________________________________________________________________\n",
            "block_8_add (Add)               (None, None, None, 6 0           block_7_add[0][0]                \n",
            "                                                                 block_8_project_BN[0][0]         \n",
            "__________________________________________________________________________________________________\n",
            "block_9_expand (Conv2D)         (None, None, None, 3 24576       block_8_add[0][0]                \n",
            "__________________________________________________________________________________________________\n",
            "block_9_expand_BN (BatchNormali (None, None, None, 3 1536        block_9_expand[0][0]             \n",
            "__________________________________________________________________________________________________\n",
            "block_9_expand_relu (ReLU)      (None, None, None, 3 0           block_9_expand_BN[0][0]          \n",
            "__________________________________________________________________________________________________\n",
            "block_9_depthwise (DepthwiseCon (None, None, None, 3 3456        block_9_expand_relu[0][0]        \n",
            "__________________________________________________________________________________________________\n",
            "block_9_depthwise_BN (BatchNorm (None, None, None, 3 1536        block_9_depthwise[0][0]          \n",
            "__________________________________________________________________________________________________\n",
            "block_9_depthwise_relu (ReLU)   (None, None, None, 3 0           block_9_depthwise_BN[0][0]       \n",
            "__________________________________________________________________________________________________\n",
            "block_9_project (Conv2D)        (None, None, None, 6 24576       block_9_depthwise_relu[0][0]     \n",
            "__________________________________________________________________________________________________\n",
            "block_9_project_BN (BatchNormal (None, None, None, 6 256         block_9_project[0][0]            \n",
            "__________________________________________________________________________________________________\n",
            "block_9_add (Add)               (None, None, None, 6 0           block_8_add[0][0]                \n",
            "                                                                 block_9_project_BN[0][0]         \n",
            "__________________________________________________________________________________________________\n",
            "block_10_expand (Conv2D)        (None, None, None, 3 24576       block_9_add[0][0]                \n",
            "__________________________________________________________________________________________________\n",
            "block_10_expand_BN (BatchNormal (None, None, None, 3 1536        block_10_expand[0][0]            \n",
            "__________________________________________________________________________________________________\n",
            "block_10_expand_relu (ReLU)     (None, None, None, 3 0           block_10_expand_BN[0][0]         \n",
            "__________________________________________________________________________________________________\n",
            "block_10_depthwise (DepthwiseCo (None, None, None, 3 3456        block_10_expand_relu[0][0]       \n",
            "__________________________________________________________________________________________________\n",
            "block_10_depthwise_BN (BatchNor (None, None, None, 3 1536        block_10_depthwise[0][0]         \n",
            "__________________________________________________________________________________________________\n",
            "block_10_depthwise_relu (ReLU)  (None, None, None, 3 0           block_10_depthwise_BN[0][0]      \n",
            "__________________________________________________________________________________________________\n",
            "block_10_project (Conv2D)       (None, None, None, 9 36864       block_10_depthwise_relu[0][0]    \n",
            "__________________________________________________________________________________________________\n",
            "block_10_project_BN (BatchNorma (None, None, None, 9 384         block_10_project[0][0]           \n",
            "__________________________________________________________________________________________________\n",
            "block_11_expand (Conv2D)        (None, None, None, 5 55296       block_10_project_BN[0][0]        \n",
            "__________________________________________________________________________________________________\n",
            "block_11_expand_BN (BatchNormal (None, None, None, 5 2304        block_11_expand[0][0]            \n",
            "__________________________________________________________________________________________________\n",
            "block_11_expand_relu (ReLU)     (None, None, None, 5 0           block_11_expand_BN[0][0]         \n",
            "__________________________________________________________________________________________________\n",
            "block_11_depthwise (DepthwiseCo (None, None, None, 5 5184        block_11_expand_relu[0][0]       \n",
            "__________________________________________________________________________________________________\n",
            "block_11_depthwise_BN (BatchNor (None, None, None, 5 2304        block_11_depthwise[0][0]         \n",
            "__________________________________________________________________________________________________\n",
            "block_11_depthwise_relu (ReLU)  (None, None, None, 5 0           block_11_depthwise_BN[0][0]      \n",
            "__________________________________________________________________________________________________\n",
            "block_11_project (Conv2D)       (None, None, None, 9 55296       block_11_depthwise_relu[0][0]    \n",
            "__________________________________________________________________________________________________\n",
            "block_11_project_BN (BatchNorma (None, None, None, 9 384         block_11_project[0][0]           \n",
            "__________________________________________________________________________________________________\n",
            "block_11_add (Add)              (None, None, None, 9 0           block_10_project_BN[0][0]        \n",
            "                                                                 block_11_project_BN[0][0]        \n",
            "__________________________________________________________________________________________________\n",
            "block_12_expand (Conv2D)        (None, None, None, 5 55296       block_11_add[0][0]               \n",
            "__________________________________________________________________________________________________\n",
            "block_12_expand_BN (BatchNormal (None, None, None, 5 2304        block_12_expand[0][0]            \n",
            "__________________________________________________________________________________________________\n",
            "block_12_expand_relu (ReLU)     (None, None, None, 5 0           block_12_expand_BN[0][0]         \n",
            "__________________________________________________________________________________________________\n",
            "block_12_depthwise (DepthwiseCo (None, None, None, 5 5184        block_12_expand_relu[0][0]       \n",
            "__________________________________________________________________________________________________\n",
            "block_12_depthwise_BN (BatchNor (None, None, None, 5 2304        block_12_depthwise[0][0]         \n",
            "__________________________________________________________________________________________________\n",
            "block_12_depthwise_relu (ReLU)  (None, None, None, 5 0           block_12_depthwise_BN[0][0]      \n",
            "__________________________________________________________________________________________________\n",
            "block_12_project (Conv2D)       (None, None, None, 9 55296       block_12_depthwise_relu[0][0]    \n",
            "__________________________________________________________________________________________________\n",
            "block_12_project_BN (BatchNorma (None, None, None, 9 384         block_12_project[0][0]           \n",
            "__________________________________________________________________________________________________\n",
            "block_12_add (Add)              (None, None, None, 9 0           block_11_add[0][0]               \n",
            "                                                                 block_12_project_BN[0][0]        \n",
            "__________________________________________________________________________________________________\n",
            "block_13_expand (Conv2D)        (None, None, None, 5 55296       block_12_add[0][0]               \n",
            "__________________________________________________________________________________________________\n",
            "block_13_expand_BN (BatchNormal (None, None, None, 5 2304        block_13_expand[0][0]            \n",
            "__________________________________________________________________________________________________\n",
            "block_13_expand_relu (ReLU)     (None, None, None, 5 0           block_13_expand_BN[0][0]         \n",
            "__________________________________________________________________________________________________\n",
            "block_13_pad (ZeroPadding2D)    (None, None, None, 5 0           block_13_expand_relu[0][0]       \n",
            "__________________________________________________________________________________________________\n",
            "block_13_depthwise (DepthwiseCo (None, None, None, 5 5184        block_13_pad[0][0]               \n",
            "__________________________________________________________________________________________________\n",
            "block_13_depthwise_BN (BatchNor (None, None, None, 5 2304        block_13_depthwise[0][0]         \n",
            "__________________________________________________________________________________________________\n",
            "block_13_depthwise_relu (ReLU)  (None, None, None, 5 0           block_13_depthwise_BN[0][0]      \n",
            "__________________________________________________________________________________________________\n",
            "block_13_project (Conv2D)       (None, None, None, 1 92160       block_13_depthwise_relu[0][0]    \n",
            "__________________________________________________________________________________________________\n",
            "block_13_project_BN (BatchNorma (None, None, None, 1 640         block_13_project[0][0]           \n",
            "__________________________________________________________________________________________________\n",
            "block_14_expand (Conv2D)        (None, None, None, 9 153600      block_13_project_BN[0][0]        \n",
            "__________________________________________________________________________________________________\n",
            "block_14_expand_BN (BatchNormal (None, None, None, 9 3840        block_14_expand[0][0]            \n",
            "__________________________________________________________________________________________________\n",
            "block_14_expand_relu (ReLU)     (None, None, None, 9 0           block_14_expand_BN[0][0]         \n",
            "__________________________________________________________________________________________________\n",
            "block_14_depthwise (DepthwiseCo (None, None, None, 9 8640        block_14_expand_relu[0][0]       \n",
            "__________________________________________________________________________________________________\n",
            "block_14_depthwise_BN (BatchNor (None, None, None, 9 3840        block_14_depthwise[0][0]         \n",
            "__________________________________________________________________________________________________\n",
            "block_14_depthwise_relu (ReLU)  (None, None, None, 9 0           block_14_depthwise_BN[0][0]      \n",
            "__________________________________________________________________________________________________\n",
            "block_14_project (Conv2D)       (None, None, None, 1 153600      block_14_depthwise_relu[0][0]    \n",
            "__________________________________________________________________________________________________\n",
            "block_14_project_BN (BatchNorma (None, None, None, 1 640         block_14_project[0][0]           \n",
            "__________________________________________________________________________________________________\n",
            "block_14_add (Add)              (None, None, None, 1 0           block_13_project_BN[0][0]        \n",
            "                                                                 block_14_project_BN[0][0]        \n",
            "__________________________________________________________________________________________________\n",
            "block_15_expand (Conv2D)        (None, None, None, 9 153600      block_14_add[0][0]               \n",
            "__________________________________________________________________________________________________\n",
            "block_15_expand_BN (BatchNormal (None, None, None, 9 3840        block_15_expand[0][0]            \n",
            "__________________________________________________________________________________________________\n",
            "block_15_expand_relu (ReLU)     (None, None, None, 9 0           block_15_expand_BN[0][0]         \n",
            "__________________________________________________________________________________________________\n",
            "block_15_depthwise (DepthwiseCo (None, None, None, 9 8640        block_15_expand_relu[0][0]       \n",
            "__________________________________________________________________________________________________\n",
            "block_15_depthwise_BN (BatchNor (None, None, None, 9 3840        block_15_depthwise[0][0]         \n",
            "__________________________________________________________________________________________________\n",
            "block_15_depthwise_relu (ReLU)  (None, None, None, 9 0           block_15_depthwise_BN[0][0]      \n",
            "__________________________________________________________________________________________________\n",
            "block_15_project (Conv2D)       (None, None, None, 1 153600      block_15_depthwise_relu[0][0]    \n",
            "__________________________________________________________________________________________________\n",
            "block_15_project_BN (BatchNorma (None, None, None, 1 640         block_15_project[0][0]           \n",
            "__________________________________________________________________________________________________\n",
            "block_15_add (Add)              (None, None, None, 1 0           block_14_add[0][0]               \n",
            "                                                                 block_15_project_BN[0][0]        \n",
            "__________________________________________________________________________________________________\n",
            "block_16_expand (Conv2D)        (None, None, None, 9 153600      block_15_add[0][0]               \n",
            "__________________________________________________________________________________________________\n",
            "block_16_expand_BN (BatchNormal (None, None, None, 9 3840        block_16_expand[0][0]            \n",
            "__________________________________________________________________________________________________\n",
            "block_16_expand_relu (ReLU)     (None, None, None, 9 0           block_16_expand_BN[0][0]         \n",
            "__________________________________________________________________________________________________\n",
            "block_16_depthwise (DepthwiseCo (None, None, None, 9 8640        block_16_expand_relu[0][0]       \n",
            "__________________________________________________________________________________________________\n",
            "block_16_depthwise_BN (BatchNor (None, None, None, 9 3840        block_16_depthwise[0][0]         \n",
            "__________________________________________________________________________________________________\n",
            "block_16_depthwise_relu (ReLU)  (None, None, None, 9 0           block_16_depthwise_BN[0][0]      \n",
            "__________________________________________________________________________________________________\n",
            "block_16_project (Conv2D)       (None, None, None, 3 307200      block_16_depthwise_relu[0][0]    \n",
            "__________________________________________________________________________________________________\n",
            "block_16_project_BN (BatchNorma (None, None, None, 3 1280        block_16_project[0][0]           \n",
            "__________________________________________________________________________________________________\n",
            "Conv_1 (Conv2D)                 (None, None, None, 1 409600      block_16_project_BN[0][0]        \n",
            "__________________________________________________________________________________________________\n",
            "Conv_1_bn (BatchNormalization)  (None, None, None, 1 5120        Conv_1[0][0]                     \n",
            "__________________________________________________________________________________________________\n",
            "out_relu (ReLU)                 (None, None, None, 1 0           Conv_1_bn[0][0]                  \n",
            "==================================================================================================\n",
            "Total params: 2,257,984\n",
            "Trainable params: 2,223,872\n",
            "Non-trainable params: 34,112\n",
            "__________________________________________________________________________________________________\n"
          ],
          "name": "stdout"
        }
      ]
    },
    {
      "cell_type": "markdown",
      "metadata": {
        "id": "ngVtdWor2z62",
        "colab_type": "text"
      },
      "source": [
        "With the pretrained model we can build our actual model that adds an output layer to it."
      ]
    },
    {
      "cell_type": "code",
      "metadata": {
        "id": "HQNsTLZI4GOW",
        "colab_type": "code",
        "colab": {}
      },
      "source": [
        "\"\"\" Create a transfer learning model, that uses a pretrained model \"pretrained_model\" and appends a 2D global average pooling layer, a dropout layer (droprate 0.25) and a dense output layer with 102 neurons. \"\"\"\n",
        "\n",
        "class MyTransferModel(k.Model):\n",
        "    def __init__(self, pretrained_model):\n",
        "        super(MyTransferModel, self).__init__()\n",
        "        # Define layers and pretrained model\n",
        "        self.Base_Model = pretrained_model\n",
        "        self.Pool = k.layers.GlobalAvgPool2D()\n",
        "        self.Dropout =  k.layers.Dropout(0.25)\n",
        "        self.Dense = k.layers.Dense(102,activation='softmax')\n",
        "\n",
        "    def call(self, inputs, training=False):\n",
        "        # Call pretrained model and layers appropriately to implement forward pass\n",
        "        output = self.Base_Model(inputs)\n",
        "        output = self.Pool(output)\n",
        "        output = self.Dropout(output)\n",
        "        output = self.Dense(output)\n",
        "        \n",
        "        return output"
      ],
      "execution_count": 0,
      "outputs": []
    },
    {
      "cell_type": "markdown",
      "metadata": {
        "id": "w5w6aV4S4nHu",
        "colab_type": "text"
      },
      "source": [
        "Now we just need to instantiate our model for transfer learning and fine tune it. But instead of directly training all layers we will just train the last layer first. If you do not do this and directly train the complete model, the randomly initialization of the last layer can cause gradients with very big magnitude that will be propageted into the MobileNetV2 layers and cause them to \"forget\" what they have learned on ImageNet. This is undesireable since we want to transfer that knowledge over into our model in order to achieve better performance on the Caltech 101 data set."
      ]
    },
    {
      "cell_type": "code",
      "metadata": {
        "id": "ayjQnTqz47CO",
        "colab_type": "code",
        "outputId": "b7944847-37f7-4806-c0d4-9c077e6d469f",
        "colab": {
          "base_uri": "https://localhost:8080/",
          "height": 289
        }
      },
      "source": [
        "\"\"\" Instantiate a MyTransferModel object and a RMSprop optimizer, compile them with a suitable loss and accuracy as a metric. Use \"base_model\" as the pretrained model. \"\"\"\n",
        "\n",
        "tf_batch_size = 32\n",
        "tf_epochs = 10\n",
        "tf_learning_rate = 0.001\n",
        "tf_mdl = MyTransferModel(base_model)\n",
        "tf_opt = tf.optimizers.RMSprop(tf_learning_rate)\n",
        "base_model.trainable = False\n",
        "tf_mdl.compile(optimizer = tf_opt,loss = 'sparse_categorical_crossentropy',metrics=['accuracy'])\n",
        "tf_mdl.build((tf_batch_size, 224, 224, 3))\n",
        "tf_mdl.summary()\n",
        "\n"
      ],
      "execution_count": 0,
      "outputs": [
        {
          "output_type": "stream",
          "text": [
            "Model: \"my_transfer_model\"\n",
            "_________________________________________________________________\n",
            "Layer (type)                 Output Shape              Param #   \n",
            "=================================================================\n",
            "mobilenetv2_1.00_224 (Model) (None, None, None, 1280)  2257984   \n",
            "_________________________________________________________________\n",
            "global_average_pooling2d (Gl multiple                  0         \n",
            "_________________________________________________________________\n",
            "dropout (Dropout)            multiple                  0         \n",
            "_________________________________________________________________\n",
            "dense (Dense)                multiple                  130662    \n",
            "=================================================================\n",
            "Total params: 2,388,646\n",
            "Trainable params: 130,662\n",
            "Non-trainable params: 2,257,984\n",
            "_________________________________________________________________\n"
          ],
          "name": "stdout"
        }
      ]
    },
    {
      "cell_type": "code",
      "metadata": {
        "id": "4lBZGIgfoj-0",
        "colab_type": "code",
        "outputId": "f90e00fa-c85e-4b7a-a4bb-579d6a0e1533",
        "colab": {
          "base_uri": "https://localhost:8080/",
          "height": 408
        }
      },
      "source": [
        "\"\"\" Create the data set generators and train the model for \"tf_epochs\" epochs. Hint: Use the class mode \"sparse\" and the appropriate subsets for creating the generators and \n",
        "steps_per_epoch=int((1.0-val_split)*N_samples_Caltech101/tf_batch_size) for the fit function. The data for the Caltech101 data set is located in the \"101_ObjectCategories\" directory. \"\"\"\n",
        "\n",
        "train_gen = datagen.flow_from_directory(\"101_ObjectCategories/\",class_mode = 'sparse',batch_size = tf_batch_size)\n",
        "val_gen = datagen.flow_from_directory(\"101_ObjectCategories/\",class_mode = 'sparse',batch_size = tf_batch_size)\n",
        "\n",
        "print(train_gen)\n",
        "tf_history_0 = tf_mdl.fit_generator(train_gen,steps_per_epoch=int((1.0-val_split)*N_samples_Caltech101/tf_batch_size),epochs = tf_epochs,\n",
        "                                   validation_data=val_gen)\n"
      ],
      "execution_count": 0,
      "outputs": [
        {
          "output_type": "stream",
          "text": [
            "Found 9144 images belonging to 102 classes.\n",
            "Found 9144 images belonging to 102 classes.\n",
            "<keras_preprocessing.image.directory_iterator.DirectoryIterator object at 0x7f5b6d2597b8>\n",
            "Epoch 1/10\n",
            "260/260 [==============================] - 308s 1s/step - loss: 0.2759 - accuracy: 0.9166 - val_loss: 0.3008 - val_accuracy: 0.9100\n",
            "Epoch 2/10\n",
            "260/260 [==============================] - 301s 1s/step - loss: 0.2732 - accuracy: 0.9205 - val_loss: 0.3055 - val_accuracy: 0.9062\n",
            "Epoch 3/10\n",
            "260/260 [==============================] - 301s 1s/step - loss: 0.2479 - accuracy: 0.9234 - val_loss: 0.3286 - val_accuracy: 0.8963\n",
            "Epoch 4/10\n",
            "260/260 [==============================] - 301s 1s/step - loss: 0.2594 - accuracy: 0.9236 - val_loss: 0.3073 - val_accuracy: 0.9074\n",
            "Epoch 5/10\n",
            "260/260 [==============================] - 302s 1s/step - loss: 0.2394 - accuracy: 0.9284 - val_loss: 0.2716 - val_accuracy: 0.9150\n",
            "Epoch 6/10\n",
            "260/260 [==============================] - 302s 1s/step - loss: 0.2266 - accuracy: 0.9329 - val_loss: 0.2906 - val_accuracy: 0.9136\n",
            "Epoch 7/10\n",
            "260/260 [==============================] - 301s 1s/step - loss: 0.2361 - accuracy: 0.9286 - val_loss: 0.2671 - val_accuracy: 0.9237\n",
            "Epoch 8/10\n",
            "260/260 [==============================] - 304s 1s/step - loss: 0.2108 - accuracy: 0.9374 - val_loss: 0.3057 - val_accuracy: 0.9092\n",
            "Epoch 9/10\n",
            "260/260 [==============================] - 301s 1s/step - loss: 0.2144 - accuracy: 0.9378 - val_loss: 0.2537 - val_accuracy: 0.9231\n",
            "Epoch 10/10\n",
            "260/260 [==============================] - 301s 1s/step - loss: 0.2201 - accuracy: 0.9335 - val_loss: 0.2480 - val_accuracy: 0.9255\n"
          ],
          "name": "stdout"
        }
      ]
    },
    {
      "cell_type": "markdown",
      "metadata": {
        "id": "HbKiWk_T4zH1",
        "colab_type": "text"
      },
      "source": [
        "Now that we have trained the outputlayer of our model on the Caltech 101 data set, we can make the last layers of the MobileNetV2 model trainable and continue to fine tune  it with a low learning rate. For this we need to recompile our model in order for the change of the MobileNetV2 parameters to trainable to have an effect."
      ]
    },
    {
      "cell_type": "code",
      "metadata": {
        "id": "yNL1HtEp5R2W",
        "colab_type": "code",
        "outputId": "2334a72a-a2ed-4726-cd8f-f3d96377ada0",
        "colab": {
          "base_uri": "https://localhost:8080/",
          "height": 629
        }
      },
      "source": [
        "\"\"\" Reinstantiate the RMSprop optimizer with the changed learning rate and set the base_model to be trainable. Then compile it with the newly instantiate optimizer, a suitable loss function and accuracy as a metric \n",
        "and continue training on the Caltech101 data set. Hint: Angain use steps_per_epoch=int((1.0-val_split)*N_samples_Caltech101/tf_batch_size) to train the model for \"tf_epochs\" epochs on the data set. \"\"\"\n",
        "\n",
        "tf_learning_rate = 0.00001\n",
        "tf_opt = tf.optimizers.RMSprop(tf_learning_rate)\n",
        "# Set base_model to be trainable\n",
        "tf_mdl.compile(loss=\"sparse_categorical_crossentropy\", optimizer=tf_opt, metrics=[\"accuracy\"])\n",
        "tf_mdl.build((tf_batch_size, 224, 224, 3))\n",
        "tf_mdl.summary()\n",
        "\n",
        "tf_history_1 = tf_mdl.fit_generator(train_gen,steps_per_epoch=int((1.0-val_split)*N_samples_Caltech101/tf_batch_size),epochs = tf_epochs,\n",
        "                                   validation_data=val_gen)"
      ],
      "execution_count": 0,
      "outputs": [
        {
          "output_type": "stream",
          "text": [
            "Model: \"my_transfer_model\"\n",
            "_________________________________________________________________\n",
            "Layer (type)                 Output Shape              Param #   \n",
            "=================================================================\n",
            "mobilenetv2_1.00_224 (Model) (None, None, None, 1280)  2257984   \n",
            "_________________________________________________________________\n",
            "global_average_pooling2d (Gl multiple                  0         \n",
            "_________________________________________________________________\n",
            "dropout (Dropout)            multiple                  0         \n",
            "_________________________________________________________________\n",
            "dense (Dense)                multiple                  130662    \n",
            "=================================================================\n",
            "Total params: 2,388,646\n",
            "Trainable params: 130,662\n",
            "Non-trainable params: 2,257,984\n",
            "_________________________________________________________________\n",
            "Epoch 1/10\n",
            "260/260 [==============================] - 316s 1s/step - loss: 0.1906 - accuracy: 0.9427 - val_loss: 0.2453 - val_accuracy: 0.9265\n",
            "Epoch 2/10\n",
            "260/260 [==============================] - 303s 1s/step - loss: 0.1983 - accuracy: 0.9421 - val_loss: 0.2531 - val_accuracy: 0.9215\n",
            "Epoch 3/10\n",
            "260/260 [==============================] - 304s 1s/step - loss: 0.1762 - accuracy: 0.9466 - val_loss: 0.2566 - val_accuracy: 0.9230\n",
            "Epoch 4/10\n",
            "260/260 [==============================] - 302s 1s/step - loss: 0.1804 - accuracy: 0.9451 - val_loss: 0.2578 - val_accuracy: 0.9202\n",
            "Epoch 5/10\n",
            "260/260 [==============================] - 302s 1s/step - loss: 0.1823 - accuracy: 0.9425 - val_loss: 0.2594 - val_accuracy: 0.9241\n",
            "Epoch 6/10\n",
            "260/260 [==============================] - 304s 1s/step - loss: 0.1869 - accuracy: 0.9415 - val_loss: 0.2447 - val_accuracy: 0.9257\n",
            "Epoch 7/10\n",
            "260/260 [==============================] - 302s 1s/step - loss: 0.1684 - accuracy: 0.9486 - val_loss: 0.2541 - val_accuracy: 0.9252\n",
            "Epoch 8/10\n",
            "260/260 [==============================] - 303s 1s/step - loss: 0.1767 - accuracy: 0.9463 - val_loss: 0.2622 - val_accuracy: 0.9212\n",
            "Epoch 9/10\n",
            "260/260 [==============================] - 302s 1s/step - loss: 0.1703 - accuracy: 0.9492 - val_loss: 0.2560 - val_accuracy: 0.9203\n",
            "Epoch 10/10\n",
            "260/260 [==============================] - 299s 1s/step - loss: 0.1738 - accuracy: 0.9501 - val_loss: 0.2635 - val_accuracy: 0.9213\n"
          ],
          "name": "stdout"
        }
      ]
    },
    {
      "cell_type": "markdown",
      "metadata": {
        "id": "GNo2frodRH_i",
        "colab_type": "text"
      },
      "source": [
        "As you can see from the increasing gap between training and validation loss and accuracy, overfitting is becoming a bigger problem now. This is due to the much higher number of trainable parameters if we not only train the output layer on the rather small Caltech 101 data set. But still we can improve the performance of our model. We can visualize this if we plot the accuracy over the training process."
      ]
    },
    {
      "cell_type": "code",
      "metadata": {
        "id": "g2QHrVsvRv0C",
        "colab_type": "code",
        "outputId": "118d1f0b-8b44-455d-f678-127a4677a959",
        "colab": {
          "base_uri": "https://localhost:8080/",
          "height": 283
        }
      },
      "source": [
        "plt.plot(tf_history_0.history[\"accuracy\"]+tf_history_1.history[\"accuracy\"])\n",
        "plt.plot(tf_history_0.history[\"val_accuracy\"]+tf_history_1.history[\"val_accuracy\"])\n",
        "plt.xticks(range(len(tf_history_0.history[\"accuracy\"]+tf_history_1.history[\"accuracy\"])))\n",
        "plt.axvline(9, color=\"green\")\n",
        "plt.xlabel(\"Epochs\")\n",
        "plt.ylabel(\"Accuracy\")\n",
        "plt.legend([\"Acc\", \"Val. Acc\", \"Start fine tuning\"])\n",
        "plt.show()"
      ],
      "execution_count": 0,
      "outputs": [
        {
          "output_type": "display_data",
          "data": {
            "image/png": "[encoded data removed]",
            "text/plain": [
              "<Figure size 432x288 with 1 Axes>"
            ]
          },
          "metadata": {
            "tags": []
          }
        }
      ]
    },
    {
      "cell_type": "markdown",
      "metadata": {
        "id": "Z2Jhnwh5Y4IB",
        "colab_type": "text"
      },
      "source": [
        "Overall the resulting performance of the model is quite close to published results on the Caltach 101, e.g. this [paper](https://arxiv.org/abs/1406.4729v1), while the definintion and training of the model only required very little code.\n",
        "\n",
        "In order to evaluate if transfer learning actually makes a difference, we can simply train the MobileNetV2 on the Caltech 101 data set. As we already discussed, training such a high capacity model on such a small data set leads to heavy overfitting."
      ]
    },
    {
      "cell_type": "code",
      "metadata": {
        "id": "Ugaum5NNdxb1",
        "colab_type": "code",
        "outputId": "62bc5011-21d6-4a0e-c2bb-26d655fadefe",
        "colab": {
          "base_uri": "https://localhost:8080/",
          "height": 683
        }
      },
      "source": [
        "\"\"\" Instantiate a new base_model, now with randomly initialized weights, and instantiate a new MyTransferModel object. Compile it with a RMSprop optimizer, a suitable loss and accuracy as a metric.  \"\"\"\n",
        "\n",
        "tf_batch_size = 32\n",
        "tf_epochs = 10\n",
        "tf_learning_rate = 0.001\n",
        "base_model = k.applications.mobilenet_v2.MobileNetV2(include_top=False)# Instantiate a randomly initialized MobileNetV2 with it's top/output layer\n",
        "tf_mdl =MyTransferModel(base_model)\n",
        "tf_opt = tf.optimizers.RMSprop(tf_learning_rate)\n",
        "tf_mdl.compile(loss=\"sparse_categorical_crossentropy\", optimizer=tf_opt, metrics=[\"accuracy\"])\n",
        "tf_mdl.build((tf_batch_size, 224, 224, 3))\n",
        "tf_mdl.summary()\n",
        "\n",
        "\"\"\" Train this newly instantiated model on the Caltech101 data set. Hint: Again use steps_per_epoch=int((1.0-val_split)*N_samples_Caltech101/tf_batch_size). \"\"\"\n",
        "\n",
        "tf_history_2 = tf_mdl.fit_generator(train_gen,steps_per_epoch=int((1.0-val_split)*N_samples_Caltech101/tf_batch_size),epochs = tf_epochs,\n",
        "                                   validation_data=val_gen)"
      ],
      "execution_count": 0,
      "outputs": [
        {
          "output_type": "stream",
          "text": [
            "/usr/local/lib/python3.6/dist-packages/keras_applications/mobilenet_v2.py:294: UserWarning: `input_shape` is undefined or non-square, or `rows` is not in [96, 128, 160, 192, 224]. Weights for input shape (224, 224) will be loaded as the default.\n",
            "  warnings.warn('`input_shape` is undefined or non-square, '\n"
          ],
          "name": "stderr"
        },
        {
          "output_type": "stream",
          "text": [
            "Model: \"my_transfer_model_2\"\n",
            "_________________________________________________________________\n",
            "Layer (type)                 Output Shape              Param #   \n",
            "=================================================================\n",
            "mobilenetv2_1.00_224 (Model) (None, None, None, 1280)  2257984   \n",
            "_________________________________________________________________\n",
            "global_average_pooling2d_2 ( multiple                  0         \n",
            "_________________________________________________________________\n",
            "dropout_2 (Dropout)          multiple                  0         \n",
            "_________________________________________________________________\n",
            "dense_2 (Dense)              multiple                  130662    \n",
            "=================================================================\n",
            "Total params: 2,388,646\n",
            "Trainable params: 2,354,534\n",
            "Non-trainable params: 34,112\n",
            "_________________________________________________________________\n",
            "Epoch 1/10\n",
            "260/260 [==============================] - 476s 2s/step - loss: 1.4707 - accuracy: 0.5322 - val_loss: 12.8750 - val_accuracy: 0.0811\n",
            "Epoch 2/10\n",
            "260/260 [==============================] - 392s 2s/step - loss: 0.7769 - accuracy: 0.7680 - val_loss: 12.8740 - val_accuracy: 0.0760\n",
            "Epoch 3/10\n",
            "260/260 [==============================] - 391s 2s/step - loss: 0.6103 - accuracy: 0.8230 - val_loss: 12.9557 - val_accuracy: 0.0795\n",
            "Epoch 4/10\n",
            "260/260 [==============================] - 394s 2s/step - loss: 0.4966 - accuracy: 0.8504 - val_loss: 12.0962 - val_accuracy: 0.1340\n",
            "Epoch 5/10\n",
            "260/260 [==============================] - 390s 1s/step - loss: 0.4502 - accuracy: 0.8598 - val_loss: 12.2384 - val_accuracy: 0.1607\n",
            "Epoch 6/10\n",
            "260/260 [==============================] - 394s 2s/step - loss: 0.3944 - accuracy: 0.8805 - val_loss: 14.2714 - val_accuracy: 0.0642\n",
            "Epoch 7/10\n",
            "260/260 [==============================] - 393s 2s/step - loss: 0.3335 - accuracy: 0.8870 - val_loss: 13.8332 - val_accuracy: 0.0669\n",
            "Epoch 8/10\n",
            "260/260 [==============================] - 391s 2s/step - loss: 0.3310 - accuracy: 0.8970 - val_loss: 12.0123 - val_accuracy: 0.1611\n",
            "Epoch 9/10\n",
            "260/260 [==============================] - 394s 2s/step - loss: 0.3116 - accuracy: 0.9098 - val_loss: 10.5649 - val_accuracy: 0.1927\n",
            "Epoch 10/10\n",
            "260/260 [==============================] - 397s 2s/step - loss: 0.2878 - accuracy: 0.9106 - val_loss: 7.6433 - val_accuracy: 0.3325\n"
          ],
          "name": "stdout"
        }
      ]
    },
    {
      "cell_type": "markdown",
      "metadata": {
        "id": "l7gvjWFvtlxr",
        "colab_type": "text"
      },
      "source": [
        "As you can see, training MobileNetV2 from scratch does not only suffer from severe overfitting but is also rather slow when compared with fine tuning. So overall it is recommended to use pretrained models and transfer learning if you want to train a high capacity neural network on a small data set, as it is often the case in practical applications. By doing this you can benefit from not only the architecture search of many experts but also save time and computational resources since a part of your model has already be pretrained by someone else. But you should always keep in mind that transfer learning is only a suitable method if there is a realistic chance of a positive transfer, i.e. the data set and task the model was pretrained on has to have something in common with your data set and task. Otherwise transfer learning can not only slow down the convergence speed but also hurt the final performance of your model."
      ]
    },
    {
      "cell_type": "markdown",
      "metadata": {
        "id": "3zzJJ51h2GP8",
        "colab_type": "text"
      },
      "source": [
        "## Catastrophic Forgetting\n",
        "Despite many advances in better architectures and training algorithms for training, neural networks still suffer from a long known phenomenon called \"catastrophic forgeeting\". In order to understand what this phenomenon is we can compare human learning with the way neural networks learn. Humans can quickly learn from few examples and most importantly, they can learn to solve tasks in a sequential way. This means one can learn a language, e.g. english, and after a certain period of time learn a second language, e.g. chinese, without having to repeatedly refresh everthing that was learned on the first language. Neural networks are currently not capable of learning on a sequence of different tasks. In order to demonstrate this, we will train a neural network first on MNIST and then on the FashionMNIST data set. We want to be able to uniquely identify any class from both data sets. Since both data sets contain $10$ classes and use the labels $\\lbrace0,\\ldots,9\\rbrace$ for them, we need to choose different labels for the FashionMNIST data set. We do this by loading the data set and shifting the labels by $10$ so that we get labels $\\lbrace10,\\ldots,19\\rbrace$."
      ]
    },
    {
      "cell_type": "code",
      "metadata": {
        "id": "x0e8W8Wc3CS_",
        "colab_type": "code",
        "colab": {}
      },
      "source": [
        "\"\"\" Shift the labels of the FashionMNIST data set to {10,...,19}. \"\"\"\n",
        "\n",
        "(x_train_fmnist, y_train_fmnist), (x_test_fmnist, y_test_fmnist) = tf.keras.datasets.fashion_mnist.load_data()\n",
        "\n",
        "x_train_fmnist = np.expand_dims(x_train_fmnist, axis=-1).astype(np.float32)\n",
        "y_train_fmnist = y_train_fmnist + 10 # Shift labels of training data\n",
        "x_test_fmnist = np.expand_dims(x_test_fmnist, axis=-1).astype(np.float32)\n",
        "y_test_fmnist = y_test_fmnist + 10 # Shift labels of testing data"
      ],
      "execution_count": 0,
      "outputs": []
    },
    {
      "cell_type": "markdown",
      "metadata": {
        "id": "Fz6e_B1vFj96",
        "colab_type": "text"
      },
      "source": [
        "We also plot some examples of this data set and varify if the labels were shifted correctly."
      ]
    },
    {
      "cell_type": "code",
      "metadata": {
        "id": "bZkh_WV-FqD_",
        "colab_type": "code",
        "outputId": "ab735ab0-3ea3-4188-8d6a-1549c0bff4c8",
        "colab": {
          "base_uri": "https://localhost:8080/",
          "height": 320
        }
      },
      "source": [
        "plt_img = np.zeros((280, 280))\n",
        "for i in range(10):\n",
        "  for j in range(10):\n",
        "    plt_img[i*28:(i+1)*28, j*28:(j+1)*28] = np.squeeze(x_train_fmnist[i*10+j])\n",
        "plt.imshow(plt_img, cmap=\"gray\")\n",
        "plt.axis(\"off\")\n",
        "plt.show()\n",
        "\n",
        "print(\"Labels\")\n",
        "print(\"MNIST: \"+str(np.unique(y_test_mnist)))\n",
        "print(\"FashionMNIST: \"+str(np.unique(y_test_fmnist)))"
      ],
      "execution_count": 0,
      "outputs": [
        {
          "output_type": "display_data",
          "data": {
            "image/png": "[encoded data removed]",
            "text/plain": [
              "<Figure size 432x288 with 1 Axes>"
            ]
          },
          "metadata": {
            "tags": []
          }
        },
        {
          "output_type": "stream",
          "text": [
            "Labels\n",
            "MNIST: [0 1 2 3 4 5 6 7 8 9]\n",
            "FashionMNIST: [10 11 12 13 14 15 16 17 18 19]\n"
          ],
          "name": "stdout"
        }
      ]
    },
    {
      "cell_type": "markdown",
      "metadata": {
        "id": "W6SBIqCcOdWe",
        "colab_type": "text"
      },
      "source": [
        "Now that we the data prepared we need to define a new model that can classify images into $20$ different classes. This is necessary since the models we used up to this point only have $10$ neurons in their output layers and therefore are only capable of classifying into $10$ different categories."
      ]
    },
    {
      "cell_type": "code",
      "metadata": {
        "id": "8WC9fu-hOzVH",
        "colab_type": "code",
        "colab": {}
      },
      "source": [
        "\"\"\" Implement a new model, which is capable of classifying 20 classes. Use two conv. layers with 8/16 filters of size 3x3 and a stride of 2, a dropout layer between the conv. and dense layers with a droprate of 0.25 \n",
        "three dense layers with 128/64/? neurons. Choose all activation functions appropriately.\"\"\"\n",
        "\n",
        "class MyExtendedModel(k.Model):\n",
        "    def __init__(self):\n",
        "        super(MyExtendedModel, self).__init__()\n",
        "        # Layer definition\n",
        "        self.conv0 = k.layers.Conv2D(8,(3,3),strides = 2,activation='relu')\n",
        "        self.conv1 = k.layers.Conv2D(16,(3,3),strides = 2,activation='relu')\n",
        "        self.dropout = k.layers.Dropout(0.25)\n",
        "        self.dense0 = k.layers.Dense(128,activation='relu')\n",
        "        self.dense1 = k.layers.Dense(64,activation='relu')\n",
        "        self.dense2 = k.layers.Dense(20,activation='softmax')\n",
        "        self.flatten = k.layers.Flatten()\n",
        "\n",
        "    def call(self, inputs, training=False):\n",
        "        # Call layers in correct order to implement forward pass\n",
        "        \n",
        "        output = self.conv0(inputs)\n",
        "        output = self.conv1(output)\n",
        "        output = self.flatten(output)\n",
        "        output = self.dropout(output)\n",
        "        output = self.dense0(output)\n",
        "        output = self.dense1(output)\n",
        "        output = self.dense2(output)\n",
        "        \n",
        "        return output"
      ],
      "execution_count": 0,
      "outputs": []
    },
    {
      "cell_type": "markdown",
      "metadata": {
        "id": "a9xyVgZrQNjg",
        "colab_type": "text"
      },
      "source": [
        "With this model we are almost redy to start training on a sequence of tasks, i.e. we will first train on the MNIST data set in order to learn the classes $0$ up to $9$ and after that train on the FshionMNIST data set in order to learn the remaining classes from $10$ to $19$. During this process we want to evaluate the model separately on MNIST and FashionMNIST validation data. Since this is not a standard procedure, we need to implement a Callback class. Callbacks in Keras are used to implement actions that are executed at different points during the training process, e.g. at the beginning of the training, after a batch is processed or at the end of each epoch. See the [documentation](https://www.tensorflow.org/versions/r2.0/api_docs/python/tf/keras/callbacks) for an overview of all provided callbacks and the [guide](https://www.tensorflow.org/beta/guide/keras/custom_callback#an_overview_of_callback_methods) on writing custom callbacks. While there are predefined callbacks, e.g. for logging metrics into a tensorboard log file, there is unfortunately no callback that we could use to evaluate our model simultaneously on two different validation data sets. The only option we have is to implement our own callback."
      ]
    },
    {
      "cell_type": "code",
      "metadata": {
        "id": "7bOiLxIRSCz5",
        "colab_type": "code",
        "colab": {}
      },
      "source": [
        "\"\"\" Implement a custom callback that evaluates a model on two data sets at the end of an epoch and stores the results in a two separate lists. Hint: The Keras callback class always posses an assotiated model. You can \n",
        "use it via the \"self.model\" attribute of the class. Hint: Evaluating the model will return a tuple containing two elements, i.e. (loss, acc).  \"\"\"\n",
        "\n",
        "class MyCallback(tf.keras.callbacks.Callback):\n",
        "  # Get the two different data sets and create lists for storing results\n",
        "  def __init__(self, x_0, y_0, x_1, y_1, batch_size):\n",
        "    super(MyCallback, self).__init__()\n",
        "    self.x_0 = x_0\n",
        "    self.y_0 = y_0\n",
        "    self.x_1 = x_1\n",
        "    self.y_1 = y_1\n",
        "    self.loss_0 = []\n",
        "    self.acc_0 =[]\n",
        "    self.loss_1 = []\n",
        "    self.acc_1 = []\n",
        "    self.batch_size = batch_size\n",
        "    \n",
        "  def on_epoch_end(self, epoch, logs=None):\n",
        "    # Evaluate the model on both data sets and store results\n",
        "    print(\"\\nStarting callback...\")\n",
        "    print(\"+----------------------+\")\n",
        "    print(\"| Data set 0           |\")\n",
        "    print(\"+----------------------+\")\n",
        "    metrics_0 = self.model.evaluate(self.x_0,self.y_0,batch_size =self.batch_size ) #Evaluate the model on \"self.x_0\" and \"self.y_0\" with \"self.batch_size\"\n",
        "    # Append loss to the loss list \"self.loss_0\" and accuracy to the accuracy list \"self.acc_0\"\n",
        "    self.loss_0.append(metrics_0[0])\n",
        "    self.acc_0.append(metrics_0[1])\n",
        "    print(\"+----------------------+\")\n",
        "    print(\"| Data set 1           |\")\n",
        "    print(\"+----------------------+\")\n",
        "    metrics_1 = self.model.evaluate(self.x_1,self.y_1,batch_size =self.batch_size )#Evaluate the model on \"self.x_1\" and \"self.y_1\" with \"self.batch_size\"\n",
        "    # Append loss to the loss list \"self.loss_1\" and accuracy to the accuracy list \"self.acc_1\"\n",
        "    self.loss_1.append(metrics_1[0])\n",
        "    self.acc_1.append(metrics_1[1])\n",
        "    print(\"Callback completed...\")\n",
        "    return "
      ],
      "execution_count": 0,
      "outputs": []
    },
    {
      "cell_type": "markdown",
      "metadata": {
        "id": "h3ZUw3WqWmSL",
        "colab_type": "text"
      },
      "source": [
        "This callback will accept two data sets on its initialization that can be used during training to evaluate on. For this we override the on_epoch_end function to evaluate on both data sets, print the results and store them for later use. We now train our neural network first on MNIST in order to learn the classes $\\lbrace0,\\ldots,9\\rbrace$ and then on FashionMNIST in order to leran the classes $\\lbrace10,\\ldots,19\\rbrace$  while simultaneously evaluating the model on both, the MNISt and FashionMNIST test sets. If our neural network would be capable of learning continually, we would expect to see the loss on MNIST decrease as we train on it and remain low as we continue with the training on FashionMNIST. Similarly we would expect the accuracy to rise on MNIST as we train on it and remain stable even if we continue to train on FashionMNIST."
      ]
    },
    {
      "cell_type": "code",
      "metadata": {
        "id": "n3tZfi6jVSec",
        "colab_type": "code",
        "outputId": "02c851d6-15f8-443b-c5b0-a0ab6d84e2ca",
        "colab": {
          "base_uri": "https://localhost:8080/",
          "height": 1000
        }
      },
      "source": [
        "\"\"\" Instantiate a MyExtendedModel object, a RMSprop optimizer with learning rate \"learning_rate\" and compile them with a suitable loss function and accuracy as a metric. Then instantiate a MyCallback object with the \n",
        "MNIST test data set \"x_test_mnist\", \"y_test_mnist\" and the FashionMNIST test data set \"x_test_fmnist\", \"y_fmnist\". Finally train the model first on the MNIST training data set and then on the FashionMNIST data set. \n",
        "Hint: Use the MyCallback object \"my_cb\" during the training in order to record the accuracies on both data sets during training. \"\"\"\n",
        "\n",
        "extended_mdl = MyExtendedModel()\n",
        "extended_opt = tf.optimizers.RMSprop(learning_rate)\n",
        "extended_mdl.compile(optimizer = extended_opt,\n",
        "            loss = 'sparse_categorical_crossentropy',\n",
        "            metrics=['accuracy'])\n",
        "\n",
        "my_cb = MyCallback(x_test_mnist,y_test_mnist,x_test_fmnist,y_test_fmnist,batch_size)\n",
        "extended_mdl.fit(x_train_mnist,y_train_mnist,callbacks = [my_cb],batch_size =batch_size,epochs = epochs  )# Train on MNIST\n",
        "extended_mdl.fit(x_train_fmnist, y_train_fmnist,callbacks = [my_cb],batch_size =batch_size ,epochs = epochs ) # Train on FashionMNIST"
      ],
      "execution_count": 0,
      "outputs": [
        {
          "output_type": "stream",
          "text": [
            "Train on 60000 samples\n",
            "Epoch 1/20\n",
            "59008/60000 [============================>.] - ETA: 0s - loss: 0.6236 - accuracy: 0.8450\n",
            "Starting callback...\n",
            "+----------------------+\n",
            "| Data set 0           |\n",
            "+----------------------+\n",
            "10000/10000 [==============================] - 0s 29us/sample - loss: 0.1319 - accuracy: 0.9591\n",
            "+----------------------+\n",
            "| Data set 1           |\n",
            "+----------------------+\n",
            "10000/10000 [==============================] - 0s 20us/sample - loss: 15.3463 - accuracy: 0.0000e+00\n",
            "Callback completed...\n",
            "60000/60000 [==============================] - 4s 66us/sample - loss: 0.6165 - accuracy: 0.8466\n",
            "Epoch 2/20\n",
            "59904/60000 [============================>.] - ETA: 0s - loss: 0.1491 - accuracy: 0.9540\n",
            "Starting callback...\n",
            "+----------------------+\n",
            "| Data set 0           |\n",
            "+----------------------+\n",
            "10000/10000 [==============================] - 0s 23us/sample - loss: 0.0729 - accuracy: 0.9773\n",
            "+----------------------+\n",
            "| Data set 1           |\n",
            "+----------------------+\n",
            "10000/10000 [==============================] - 0s 20us/sample - loss: 15.3666 - accuracy: 0.0000e+00\n",
            "Callback completed...\n",
            "60000/60000 [==============================] - 4s 58us/sample - loss: 0.1490 - accuracy: 0.9540\n",
            "Epoch 3/20\n",
            "59008/60000 [============================>.] - ETA: 0s - loss: 0.1034 - accuracy: 0.9678\n",
            "Starting callback...\n",
            "+----------------------+\n",
            "| Data set 0           |\n",
            "+----------------------+\n",
            "10000/10000 [==============================] - 0s 20us/sample - loss: 0.0568 - accuracy: 0.9814\n",
            "+----------------------+\n",
            "| Data set 1           |\n",
            "+----------------------+\n",
            "10000/10000 [==============================] - 0s 21us/sample - loss: 15.2742 - accuracy: 0.0000e+00\n",
            "Callback completed...\n",
            "60000/60000 [==============================] - 4s 59us/sample - loss: 0.1035 - accuracy: 0.9678\n",
            "Epoch 4/20\n",
            "59136/60000 [============================>.] - ETA: 0s - loss: 0.0848 - accuracy: 0.9740\n",
            "Starting callback...\n",
            "+----------------------+\n",
            "| Data set 0           |\n",
            "+----------------------+\n",
            "10000/10000 [==============================] - 0s 21us/sample - loss: 0.0613 - accuracy: 0.9805\n",
            "+----------------------+\n",
            "| Data set 1           |\n",
            "+----------------------+\n",
            "10000/10000 [==============================] - 0s 22us/sample - loss: 15.7072 - accuracy: 0.0000e+00\n",
            "Callback completed...\n",
            "60000/60000 [==============================] - 4s 58us/sample - loss: 0.0844 - accuracy: 0.9740\n",
            "Epoch 5/20\n",
            "59776/60000 [============================>.] - ETA: 0s - loss: 0.0709 - accuracy: 0.9779\n",
            "Starting callback...\n",
            "+----------------------+\n",
            "| Data set 0           |\n",
            "+----------------------+\n",
            "10000/10000 [==============================] - 0s 20us/sample - loss: 0.0546 - accuracy: 0.9844\n",
            "+----------------------+\n",
            "| Data set 1           |\n",
            "+----------------------+\n",
            "10000/10000 [==============================] - 0s 20us/sample - loss: 15.7773 - accuracy: 0.0000e+00\n",
            "Callback completed...\n",
            "60000/60000 [==============================] - 3s 58us/sample - loss: 0.0709 - accuracy: 0.9779\n",
            "Epoch 6/20\n",
            "59392/60000 [============================>.] - ETA: 0s - loss: 0.0636 - accuracy: 0.9802\n",
            "Starting callback...\n",
            "+----------------------+\n",
            "| Data set 0           |\n",
            "+----------------------+\n",
            "10000/10000 [==============================] - 0s 20us/sample - loss: 0.0531 - accuracy: 0.9838\n",
            "+----------------------+\n",
            "| Data set 1           |\n",
            "+----------------------+\n",
            "10000/10000 [==============================] - 0s 20us/sample - loss: 15.7998 - accuracy: 0.0000e+00\n",
            "Callback completed...\n",
            "60000/60000 [==============================] - 4s 58us/sample - loss: 0.0637 - accuracy: 0.9803\n",
            "Epoch 7/20\n",
            "59648/60000 [============================>.] - ETA: 0s - loss: 0.0531 - accuracy: 0.9825\n",
            "Starting callback...\n",
            "+----------------------+\n",
            "| Data set 0           |\n",
            "+----------------------+\n",
            "10000/10000 [==============================] - 0s 22us/sample - loss: 0.0522 - accuracy: 0.9829\n",
            "+----------------------+\n",
            "| Data set 1           |\n",
            "+----------------------+\n",
            "10000/10000 [==============================] - 0s 21us/sample - loss: 15.8691 - accuracy: 0.0000e+00\n",
            "Callback completed...\n",
            "60000/60000 [==============================] - 3s 58us/sample - loss: 0.0530 - accuracy: 0.9825\n",
            "Epoch 8/20\n",
            "59136/60000 [============================>.] - ETA: 0s - loss: 0.0511 - accuracy: 0.9842\n",
            "Starting callback...\n",
            "+----------------------+\n",
            "| Data set 0           |\n",
            "+----------------------+\n",
            "10000/10000 [==============================] - 0s 20us/sample - loss: 0.0541 - accuracy: 0.9843\n",
            "+----------------------+\n",
            "| Data set 1           |\n",
            "+----------------------+\n",
            "10000/10000 [==============================] - 0s 20us/sample - loss: 15.9246 - accuracy: 0.0000e+00\n",
            "Callback completed...\n",
            "60000/60000 [==============================] - 3s 58us/sample - loss: 0.0509 - accuracy: 0.9843\n",
            "Epoch 9/20\n",
            "59648/60000 [============================>.] - ETA: 0s - loss: 0.0477 - accuracy: 0.9851\n",
            "Starting callback...\n",
            "+----------------------+\n",
            "| Data set 0           |\n",
            "+----------------------+\n",
            "10000/10000 [==============================] - 0s 20us/sample - loss: 0.0522 - accuracy: 0.9855\n",
            "+----------------------+\n",
            "| Data set 1           |\n",
            "+----------------------+\n",
            "10000/10000 [==============================] - 0s 22us/sample - loss: 15.9871 - accuracy: 0.0000e+00\n",
            "Callback completed...\n",
            "60000/60000 [==============================] - 4s 58us/sample - loss: 0.0476 - accuracy: 0.9851\n",
            "Epoch 10/20\n",
            "59392/60000 [============================>.] - ETA: 0s - loss: 0.0438 - accuracy: 0.9865\n",
            "Starting callback...\n",
            "+----------------------+\n",
            "| Data set 0           |\n",
            "+----------------------+\n",
            "10000/10000 [==============================] - 0s 20us/sample - loss: 0.0527 - accuracy: 0.9850\n",
            "+----------------------+\n",
            "| Data set 1           |\n",
            "+----------------------+\n",
            "10000/10000 [==============================] - 0s 21us/sample - loss: 15.9260 - accuracy: 0.0000e+00\n",
            "Callback completed...\n",
            "60000/60000 [==============================] - 3s 58us/sample - loss: 0.0437 - accuracy: 0.9866\n",
            "Epoch 11/20\n",
            "59136/60000 [============================>.] - ETA: 0s - loss: 0.0401 - accuracy: 0.9871\n",
            "Starting callback...\n",
            "+----------------------+\n",
            "| Data set 0           |\n",
            "+----------------------+\n",
            "10000/10000 [==============================] - 0s 21us/sample - loss: 0.0564 - accuracy: 0.9856\n",
            "+----------------------+\n",
            "| Data set 1           |\n",
            "+----------------------+\n",
            "10000/10000 [==============================] - 0s 20us/sample - loss: 15.6136 - accuracy: 0.0000e+00\n",
            "Callback completed...\n",
            "60000/60000 [==============================] - 3s 58us/sample - loss: 0.0402 - accuracy: 0.9871\n",
            "Epoch 12/20\n",
            "59264/60000 [============================>.] - ETA: 0s - loss: 0.0392 - accuracy: 0.9880\n",
            "Starting callback...\n",
            "+----------------------+\n",
            "| Data set 0           |\n",
            "+----------------------+\n",
            "10000/10000 [==============================] - 0s 22us/sample - loss: 0.0540 - accuracy: 0.9860\n",
            "+----------------------+\n",
            "| Data set 1           |\n",
            "+----------------------+\n",
            "10000/10000 [==============================] - 0s 21us/sample - loss: 15.7902 - accuracy: 0.0000e+00\n",
            "Callback completed...\n",
            "60000/60000 [==============================] - 4s 59us/sample - loss: 0.0393 - accuracy: 0.9880\n",
            "Epoch 13/20\n",
            "59904/60000 [============================>.] - ETA: 0s - loss: 0.0387 - accuracy: 0.9880\n",
            "Starting callback...\n",
            "+----------------------+\n",
            "| Data set 0           |\n",
            "+----------------------+\n",
            "10000/10000 [==============================] - 0s 21us/sample - loss: 0.0530 - accuracy: 0.9853\n",
            "+----------------------+\n",
            "| Data set 1           |\n",
            "+----------------------+\n",
            "10000/10000 [==============================] - 0s 20us/sample - loss: 15.8934 - accuracy: 0.0000e+00\n",
            "Callback completed...\n",
            "60000/60000 [==============================] - 3s 57us/sample - loss: 0.0387 - accuracy: 0.9880\n",
            "Epoch 14/20\n",
            "59520/60000 [============================>.] - ETA: 0s - loss: 0.0351 - accuracy: 0.9887\n",
            "Starting callback...\n",
            "+----------------------+\n",
            "| Data set 0           |\n",
            "+----------------------+\n",
            "10000/10000 [==============================] - 0s 20us/sample - loss: 0.0509 - accuracy: 0.9873\n",
            "+----------------------+\n",
            "| Data set 1           |\n",
            "+----------------------+\n",
            "10000/10000 [==============================] - 0s 21us/sample - loss: 15.9094 - accuracy: 0.0000e+00\n",
            "Callback completed...\n",
            "60000/60000 [==============================] - 3s 58us/sample - loss: 0.0353 - accuracy: 0.9886\n",
            "Epoch 15/20\n",
            "59008/60000 [============================>.] - ETA: 0s - loss: 0.0353 - accuracy: 0.9882\n",
            "Starting callback...\n",
            "+----------------------+\n",
            "| Data set 0           |\n",
            "+----------------------+\n",
            "10000/10000 [==============================] - 0s 22us/sample - loss: 0.0499 - accuracy: 0.9863\n",
            "+----------------------+\n",
            "| Data set 1           |\n",
            "+----------------------+\n",
            "10000/10000 [==============================] - 0s 20us/sample - loss: 16.0290 - accuracy: 0.0000e+00\n",
            "Callback completed...\n",
            "60000/60000 [==============================] - 3s 58us/sample - loss: 0.0352 - accuracy: 0.9883\n",
            "Epoch 16/20\n",
            "59520/60000 [============================>.] - ETA: 0s - loss: 0.0341 - accuracy: 0.9890\n",
            "Starting callback...\n",
            "+----------------------+\n",
            "| Data set 0           |\n",
            "+----------------------+\n",
            "10000/10000 [==============================] - 0s 21us/sample - loss: 0.0535 - accuracy: 0.9863\n",
            "+----------------------+\n",
            "| Data set 1           |\n",
            "+----------------------+\n",
            "10000/10000 [==============================] - 0s 21us/sample - loss: 16.0095 - accuracy: 0.0000e+00\n",
            "Callback completed...\n",
            "60000/60000 [==============================] - 4s 58us/sample - loss: 0.0341 - accuracy: 0.9891\n",
            "Epoch 17/20\n",
            "59392/60000 [============================>.] - ETA: 0s - loss: 0.0329 - accuracy: 0.9895\n",
            "Starting callback...\n",
            "+----------------------+\n",
            "| Data set 0           |\n",
            "+----------------------+\n",
            "10000/10000 [==============================] - 0s 21us/sample - loss: 0.0581 - accuracy: 0.9874\n",
            "+----------------------+\n",
            "| Data set 1           |\n",
            "+----------------------+\n",
            "10000/10000 [==============================] - 0s 22us/sample - loss: 15.9945 - accuracy: 0.0000e+00\n",
            "Callback completed...\n",
            "60000/60000 [==============================] - 4s 59us/sample - loss: 0.0329 - accuracy: 0.9896\n",
            "Epoch 18/20\n",
            "59648/60000 [============================>.] - ETA: 0s - loss: 0.0329 - accuracy: 0.9901\n",
            "Starting callback...\n",
            "+----------------------+\n",
            "| Data set 0           |\n",
            "+----------------------+\n",
            "10000/10000 [==============================] - 0s 20us/sample - loss: 0.0599 - accuracy: 0.9849\n",
            "+----------------------+\n",
            "| Data set 1           |\n",
            "+----------------------+\n",
            "10000/10000 [==============================] - 0s 20us/sample - loss: 15.9287 - accuracy: 1.0000e-04\n",
            "Callback completed...\n",
            "60000/60000 [==============================] - 4s 59us/sample - loss: 0.0329 - accuracy: 0.9901\n",
            "Epoch 19/20\n",
            "59520/60000 [============================>.] - ETA: 0s - loss: 0.0312 - accuracy: 0.9899\n",
            "Starting callback...\n",
            "+----------------------+\n",
            "| Data set 0           |\n",
            "+----------------------+\n",
            "10000/10000 [==============================] - 0s 20us/sample - loss: 0.0589 - accuracy: 0.9861\n",
            "+----------------------+\n",
            "| Data set 1           |\n",
            "+----------------------+\n",
            "10000/10000 [==============================] - 0s 21us/sample - loss: 15.8721 - accuracy: 1.0000e-04\n",
            "Callback completed...\n",
            "60000/60000 [==============================] - 3s 58us/sample - loss: 0.0312 - accuracy: 0.9899\n",
            "Epoch 20/20\n",
            "59648/60000 [============================>.] - ETA: 0s - loss: 0.0310 - accuracy: 0.9904\n",
            "Starting callback...\n",
            "+----------------------+\n",
            "| Data set 0           |\n",
            "+----------------------+\n",
            "10000/10000 [==============================] - 0s 22us/sample - loss: 0.0466 - accuracy: 0.9876\n",
            "+----------------------+\n",
            "| Data set 1           |\n",
            "+----------------------+\n",
            "10000/10000 [==============================] - 0s 20us/sample - loss: 15.8374 - accuracy: 1.0000e-04\n",
            "Callback completed...\n",
            "60000/60000 [==============================] - 3s 58us/sample - loss: 0.0310 - accuracy: 0.9904\n",
            "Train on 60000 samples\n",
            "Epoch 1/20\n",
            "59904/60000 [============================>.] - ETA: 0s - loss: 0.6974 - accuracy: 0.7773\n",
            "Starting callback...\n",
            "+----------------------+\n",
            "| Data set 0           |\n",
            "+----------------------+\n",
            "10000/10000 [==============================] - 0s 20us/sample - loss: 12.8142 - accuracy: 0.0472\n",
            "+----------------------+\n",
            "| Data set 1           |\n",
            "+----------------------+\n",
            "10000/10000 [==============================] - 0s 21us/sample - loss: 0.4193 - accuracy: 0.8495\n",
            "Callback completed...\n",
            "60000/60000 [==============================] - 4s 59us/sample - loss: 0.6970 - accuracy: 0.7773\n",
            "Epoch 2/20\n",
            "59648/60000 [============================>.] - ETA: 0s - loss: 0.4114 - accuracy: 0.8532\n",
            "Starting callback...\n",
            "+----------------------+\n",
            "| Data set 0           |\n",
            "+----------------------+\n",
            "10000/10000 [==============================] - 0s 20us/sample - loss: 15.0982 - accuracy: 0.0074\n",
            "+----------------------+\n",
            "| Data set 1           |\n",
            "+----------------------+\n",
            "10000/10000 [==============================] - 0s 23us/sample - loss: 0.3761 - accuracy: 0.8637\n",
            "Callback completed...\n",
            "60000/60000 [==============================] - 3s 58us/sample - loss: 0.4115 - accuracy: 0.8532\n",
            "Epoch 3/20\n",
            "59904/60000 [============================>.] - ETA: 0s - loss: 0.3685 - accuracy: 0.8663\n",
            "Starting callback...\n",
            "+----------------------+\n",
            "| Data set 0           |\n",
            "+----------------------+\n",
            "10000/10000 [==============================] - 0s 21us/sample - loss: 15.8896 - accuracy: 5.0000e-04\n",
            "+----------------------+\n",
            "| Data set 1           |\n",
            "+----------------------+\n",
            "10000/10000 [==============================] - 0s 21us/sample - loss: 0.3475 - accuracy: 0.8736\n",
            "Callback completed...\n",
            "60000/60000 [==============================] - 3s 57us/sample - loss: 0.3684 - accuracy: 0.8663\n",
            "Epoch 4/20\n",
            "59776/60000 [============================>.] - ETA: 0s - loss: 0.3400 - accuracy: 0.8752\n",
            "Starting callback...\n",
            "+----------------------+\n",
            "| Data set 0           |\n",
            "+----------------------+\n",
            "10000/10000 [==============================] - 0s 21us/sample - loss: 15.9824 - accuracy: 3.0000e-04\n",
            "+----------------------+\n",
            "| Data set 1           |\n",
            "+----------------------+\n",
            "10000/10000 [==============================] - 0s 20us/sample - loss: 0.3619 - accuracy: 0.8690\n",
            "Callback completed...\n",
            "60000/60000 [==============================] - 3s 58us/sample - loss: 0.3401 - accuracy: 0.8752\n",
            "Epoch 5/20\n",
            "59904/60000 [============================>.] - ETA: 0s - loss: 0.3243 - accuracy: 0.8797\n",
            "Starting callback...\n",
            "+----------------------+\n",
            "| Data set 0           |\n",
            "+----------------------+\n",
            "10000/10000 [==============================] - 0s 22us/sample - loss: 16.0447 - accuracy: 2.0000e-04\n",
            "+----------------------+\n",
            "| Data set 1           |\n",
            "+----------------------+\n",
            "10000/10000 [==============================] - 0s 20us/sample - loss: 0.3396 - accuracy: 0.8787\n",
            "Callback completed...\n",
            "60000/60000 [==============================] - 3s 57us/sample - loss: 0.3242 - accuracy: 0.8798\n",
            "Epoch 6/20\n",
            "59264/60000 [============================>.] - ETA: 0s - loss: 0.3117 - accuracy: 0.8852\n",
            "Starting callback...\n",
            "+----------------------+\n",
            "| Data set 0           |\n",
            "+----------------------+\n",
            "10000/10000 [==============================] - 0s 22us/sample - loss: 16.1090 - accuracy: 0.0000e+00\n",
            "+----------------------+\n",
            "| Data set 1           |\n",
            "+----------------------+\n",
            "10000/10000 [==============================] - 0s 20us/sample - loss: 0.3320 - accuracy: 0.8824\n",
            "Callback completed...\n",
            "60000/60000 [==============================] - 4s 59us/sample - loss: 0.3114 - accuracy: 0.8853\n",
            "Epoch 7/20\n",
            "58880/60000 [============================>.] - ETA: 0s - loss: 0.2999 - accuracy: 0.8874\n",
            "Starting callback...\n",
            "+----------------------+\n",
            "| Data set 0           |\n",
            "+----------------------+\n",
            "10000/10000 [==============================] - 0s 20us/sample - loss: 16.1090 - accuracy: 0.0000e+00\n",
            "+----------------------+\n",
            "| Data set 1           |\n",
            "+----------------------+\n",
            "10000/10000 [==============================] - 0s 22us/sample - loss: 0.3362 - accuracy: 0.8836\n",
            "Callback completed...\n",
            "60000/60000 [==============================] - 3s 58us/sample - loss: 0.2999 - accuracy: 0.8875\n",
            "Epoch 8/20\n",
            "59264/60000 [============================>.] - ETA: 0s - loss: 0.2934 - accuracy: 0.8914\n",
            "Starting callback...\n",
            "+----------------------+\n",
            "| Data set 0           |\n",
            "+----------------------+\n",
            "10000/10000 [==============================] - 0s 22us/sample - loss: 16.1146 - accuracy: 0.0000e+00\n",
            "+----------------------+\n",
            "| Data set 1           |\n",
            "+----------------------+\n",
            "10000/10000 [==============================] - 0s 20us/sample - loss: 0.3277 - accuracy: 0.8867\n",
            "Callback completed...\n",
            "60000/60000 [==============================] - 3s 58us/sample - loss: 0.2929 - accuracy: 0.8915\n",
            "Epoch 9/20\n",
            "59136/60000 [============================>.] - ETA: 0s - loss: 0.2836 - accuracy: 0.8941\n",
            "Starting callback...\n",
            "+----------------------+\n",
            "| Data set 0           |\n",
            "+----------------------+\n",
            "10000/10000 [==============================] - 0s 21us/sample - loss: 16.1169 - accuracy: 0.0000e+00\n",
            "+----------------------+\n",
            "| Data set 1           |\n",
            "+----------------------+\n",
            "10000/10000 [==============================] - 0s 20us/sample - loss: 0.3198 - accuracy: 0.8891\n",
            "Callback completed...\n",
            "60000/60000 [==============================] - 3s 58us/sample - loss: 0.2834 - accuracy: 0.8942\n",
            "Epoch 10/20\n",
            "59136/60000 [============================>.] - ETA: 0s - loss: 0.2742 - accuracy: 0.8984\n",
            "Starting callback...\n",
            "+----------------------+\n",
            "| Data set 0           |\n",
            "+----------------------+\n",
            "10000/10000 [==============================] - 0s 20us/sample - loss: 16.1167 - accuracy: 0.0000e+00\n",
            "+----------------------+\n",
            "| Data set 1           |\n",
            "+----------------------+\n",
            "10000/10000 [==============================] - 0s 22us/sample - loss: 0.3265 - accuracy: 0.8855\n",
            "Callback completed...\n",
            "60000/60000 [==============================] - 4s 58us/sample - loss: 0.2747 - accuracy: 0.8982\n",
            "Epoch 11/20\n",
            "59648/60000 [============================>.] - ETA: 0s - loss: 0.2698 - accuracy: 0.8998\n",
            "Starting callback...\n",
            "+----------------------+\n",
            "| Data set 0           |\n",
            "+----------------------+\n",
            "10000/10000 [==============================] - 0s 21us/sample - loss: 16.1176 - accuracy: 0.0000e+00\n",
            "+----------------------+\n",
            "| Data set 1           |\n",
            "+----------------------+\n",
            "10000/10000 [==============================] - 0s 20us/sample - loss: 0.3236 - accuracy: 0.8886\n",
            "Callback completed...\n",
            "60000/60000 [==============================] - 3s 57us/sample - loss: 0.2698 - accuracy: 0.8998\n",
            "Epoch 12/20\n",
            "59264/60000 [============================>.] - ETA: 0s - loss: 0.2627 - accuracy: 0.9027\n",
            "Starting callback...\n",
            "+----------------------+\n",
            "| Data set 0           |\n",
            "+----------------------+\n",
            "10000/10000 [==============================] - 0s 21us/sample - loss: 16.1181 - accuracy: 0.0000e+00\n",
            "+----------------------+\n",
            "| Data set 1           |\n",
            "+----------------------+\n",
            "10000/10000 [==============================] - 0s 20us/sample - loss: 0.3107 - accuracy: 0.8918\n",
            "Callback completed...\n",
            "60000/60000 [==============================] - 3s 57us/sample - loss: 0.2632 - accuracy: 0.9025\n",
            "Epoch 13/20\n",
            "59136/60000 [============================>.] - ETA: 0s - loss: 0.2578 - accuracy: 0.9034\n",
            "Starting callback...\n",
            "+----------------------+\n",
            "| Data set 0           |\n",
            "+----------------------+\n",
            "10000/10000 [==============================] - 0s 21us/sample - loss: 16.1174 - accuracy: 0.0000e+00\n",
            "+----------------------+\n",
            "| Data set 1           |\n",
            "+----------------------+\n",
            "10000/10000 [==============================] - 0s 20us/sample - loss: 0.3223 - accuracy: 0.8854\n",
            "Callback completed...\n",
            "60000/60000 [==============================] - 3s 58us/sample - loss: 0.2581 - accuracy: 0.9033\n",
            "Epoch 14/20\n",
            "59264/60000 [============================>.] - ETA: 0s - loss: 0.2532 - accuracy: 0.9068\n",
            "Starting callback...\n",
            "+----------------------+\n",
            "| Data set 0           |\n",
            "+----------------------+\n",
            "10000/10000 [==============================] - 0s 21us/sample - loss: 16.1175 - accuracy: 0.0000e+00\n",
            "+----------------------+\n",
            "| Data set 1           |\n",
            "+----------------------+\n",
            "10000/10000 [==============================] - 0s 20us/sample - loss: 0.3153 - accuracy: 0.8911\n",
            "Callback completed...\n",
            "60000/60000 [==============================] - 4s 59us/sample - loss: 0.2531 - accuracy: 0.9068\n",
            "Epoch 15/20\n",
            "59264/60000 [============================>.] - ETA: 0s - loss: 0.2477 - accuracy: 0.9072\n",
            "Starting callback...\n",
            "+----------------------+\n",
            "| Data set 0           |\n",
            "+----------------------+\n",
            "10000/10000 [==============================] - 0s 23us/sample - loss: 16.1181 - accuracy: 0.0000e+00\n",
            "+----------------------+\n",
            "| Data set 1           |\n",
            "+----------------------+\n",
            "10000/10000 [==============================] - 0s 24us/sample - loss: 0.3195 - accuracy: 0.8896\n",
            "Callback completed...\n",
            "60000/60000 [==============================] - 4s 60us/sample - loss: 0.2476 - accuracy: 0.9072\n",
            "Epoch 16/20\n",
            "59136/60000 [============================>.] - ETA: 0s - loss: 0.2460 - accuracy: 0.9092\n",
            "Starting callback...\n",
            "+----------------------+\n",
            "| Data set 0           |\n",
            "+----------------------+\n",
            "10000/10000 [==============================] - 0s 23us/sample - loss: 16.1180 - accuracy: 0.0000e+00\n",
            "+----------------------+\n",
            "| Data set 1           |\n",
            "+----------------------+\n",
            "10000/10000 [==============================] - 0s 22us/sample - loss: 0.3213 - accuracy: 0.8873\n",
            "Callback completed...\n",
            "60000/60000 [==============================] - 4s 61us/sample - loss: 0.2462 - accuracy: 0.9091\n",
            "Epoch 17/20\n",
            "59776/60000 [============================>.] - ETA: 0s - loss: 0.2384 - accuracy: 0.9113\n",
            "Starting callback...\n",
            "+----------------------+\n",
            "| Data set 0           |\n",
            "+----------------------+\n",
            "10000/10000 [==============================] - 0s 20us/sample - loss: 16.1178 - accuracy: 0.0000e+00\n",
            "+----------------------+\n",
            "| Data set 1           |\n",
            "+----------------------+\n",
            "10000/10000 [==============================] - 0s 22us/sample - loss: 0.3115 - accuracy: 0.8933\n",
            "Callback completed...\n",
            "60000/60000 [==============================] - 3s 58us/sample - loss: 0.2387 - accuracy: 0.9111\n",
            "Epoch 18/20\n",
            "59136/60000 [============================>.] - ETA: 0s - loss: 0.2364 - accuracy: 0.9127\n",
            "Starting callback...\n",
            "+----------------------+\n",
            "| Data set 0           |\n",
            "+----------------------+\n",
            "10000/10000 [==============================] - 0s 21us/sample - loss: 16.1181 - accuracy: 0.0000e+00\n",
            "+----------------------+\n",
            "| Data set 1           |\n",
            "+----------------------+\n",
            "10000/10000 [==============================] - 0s 21us/sample - loss: 0.3076 - accuracy: 0.8949\n",
            "Callback completed...\n",
            "60000/60000 [==============================] - 3s 58us/sample - loss: 0.2361 - accuracy: 0.9128\n",
            "Epoch 19/20\n",
            "59904/60000 [============================>.] - ETA: 0s - loss: 0.2322 - accuracy: 0.9123\n",
            "Starting callback...\n",
            "+----------------------+\n",
            "| Data set 0           |\n",
            "+----------------------+\n",
            "10000/10000 [==============================] - 0s 20us/sample - loss: 16.1181 - accuracy: 0.0000e+00\n",
            "+----------------------+\n",
            "| Data set 1           |\n",
            "+----------------------+\n",
            "10000/10000 [==============================] - 0s 20us/sample - loss: 0.3088 - accuracy: 0.8958\n",
            "Callback completed...\n",
            "60000/60000 [==============================] - 3s 58us/sample - loss: 0.2324 - accuracy: 0.9123\n",
            "Epoch 20/20\n",
            "59264/60000 [============================>.] - ETA: 0s - loss: 0.2302 - accuracy: 0.9134\n",
            "Starting callback...\n",
            "+----------------------+\n",
            "| Data set 0           |\n",
            "+----------------------+\n",
            "10000/10000 [==============================] - 0s 22us/sample - loss: 16.1181 - accuracy: 0.0000e+00\n",
            "+----------------------+\n",
            "| Data set 1           |\n",
            "+----------------------+\n",
            "10000/10000 [==============================] - 0s 21us/sample - loss: 0.3115 - accuracy: 0.8948\n",
            "Callback completed...\n",
            "60000/60000 [==============================] - 3s 58us/sample - loss: 0.2302 - accuracy: 0.9132\n"
          ],
          "name": "stdout"
        },
        {
          "output_type": "execute_result",
          "data": {
            "text/plain": [
              "<tensorflow.python.keras.callbacks.History at 0x7f5b30ea5b38>"
            ]
          },
          "metadata": {
            "tags": []
          },
          "execution_count": 48
        }
      ]
    },
    {
      "cell_type": "markdown",
      "metadata": {
        "id": "xaUL-QYT8tfy",
        "colab_type": "text"
      },
      "source": [
        "If we now plot the loss on the validation sets during the sequential training process on MNIST and FashionMNIST, we can clearly see what catastrophic forgetting means."
      ]
    },
    {
      "cell_type": "code",
      "metadata": {
        "id": "vziuxbrI9NLF",
        "colab_type": "code",
        "outputId": "0773d4e1-62ec-403a-b803-5e0e51fd4dd1",
        "colab": {
          "base_uri": "https://localhost:8080/",
          "height": 297
        }
      },
      "source": [
        "plt.subplot(2, 1, 1)\n",
        "plt.plot(my_cb.loss_0)\n",
        "plt.plot(my_cb.loss_1)\n",
        "plt.legend([\"MNIST\", \"FashionMNIST\"])\n",
        "plt.title(\"Loss\")\n",
        "plt.subplot(2, 1, 2)\n",
        "plt.plot(my_cb.acc_0)\n",
        "plt.plot(my_cb.acc_1)\n",
        "plt.legend([\"MNIST\", \"FashionMNIST\"])\n",
        "plt.title(\"Accuracy\")\n",
        "plt.xlabel(\"Epochs\")\n",
        "plt.tight_layout()\n",
        "plt.show()"
      ],
      "execution_count": 0,
      "outputs": [
        {
          "output_type": "display_data",
          "data": {
            "image/png": "[encoded data removed]",
            "text/plain": [
              "<Figure size 432x288 with 2 Axes>"
            ]
          },
          "metadata": {
            "tags": []
          }
        }
      ]
    },
    {
      "cell_type": "markdown",
      "metadata": {
        "id": "iSfJAOLbBsv3",
        "colab_type": "text"
      },
      "source": [
        "We can clearly see the transition from training on MNIST to training on FashionMNITS on epoch $20$. At this epoch the loss on MNIST rapidly increases again while the loss on FashionMNIST rapidly decreases. For the accuracy we see a similar but opposite behaivior. It first is high while training on MNIST and then rapidly decreases towards $0$ as we transition to training on FashionMNIST. Avioding this phenomenon is an active area of research on deep learning and there already exist some methods in order to mitigate catastrophic forgetting. But so far solving continual learning with neural networks remains an interesting and challenging problem. If it can be solved, neural networks could learn more human like without a constant need to refresh previously learned examples and enable interesting new applications where knowledge is accumulated over time.\n",
        "\n",
        "## Conclusion\n",
        "In this exercise we have learned how to use Keras in order to quickly develop neural networks and train them on different data sets. We also refreshed the mathematical background on classification and explored how dropout can act as an effective regularization in order to mitigate overfitting. While the Keras specification offers a high-level of abstraction in order to simplify build and training neural networks, it also enables us to customize some parts of the complete workflow. In order to evaluate a model on two different data sets in order to visualize the phenomenon of catastrophic forgetting, we implemented a custom callback that executed our required action at the end of every epoch. Besides that Keras offers many other ways to implement non standard layers/methods. If you want to learn more on Keras, you can visit the documentation on the Keras implementation in Tensorflow [here](https://www.tensorflow.org/versions/r2.0/api_docs/python/tf/keras) or directly use the Keras specification available [here](https://keras.io). Additionally we explored a very basic transfer learning technique, i.e. fine tuning of pretrained models. For this we utilized the MobileNetV2 architecture that was trained on the ImageNet data set and fine tuned it on the Caltech 101 data set. The resulting model was simple to implement and fast to train, while it still achieved competetive results."
      ]
    }
  ]
}